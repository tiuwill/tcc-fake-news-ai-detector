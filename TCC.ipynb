{
 "cells": [
  {
   "cell_type": "markdown",
   "id": "antique-grant",
   "metadata": {},
   "source": [
    "# Análise de dados e construção de modelo de machine learning para análise de fake news\n",
    "\n",
    "\n",
    "- importando libs para análise de dados"
   ]
  },
  {
   "cell_type": "code",
   "execution_count": 1,
   "id": "formed-powder",
   "metadata": {},
   "outputs": [],
   "source": [
    "import pandas as pd\n",
    "import numpy as np\n",
    "from unidecode import unidecode\n",
    "import re\n",
    "import collections\n",
    "import nltk\n",
    "import time"
   ]
  },
  {
   "cell_type": "markdown",
   "id": "threaded-impact",
   "metadata": {},
   "source": [
    "## Importando o arquivo com todas as notícias"
   ]
  },
  {
   "cell_type": "code",
   "execution_count": null,
   "id": "polish-fabric",
   "metadata": {},
   "outputs": [],
   "source": [
    "todas_noticias = pd.read_csv('todos_os_dados.csv')\n",
    "todas_noticias.target.unique()"
   ]
  },
  {
   "cell_type": "markdown",
   "id": "irish-laptop",
   "metadata": {},
   "source": [
    "## Limpeza dos dados (Feature engineering)\n",
    "\n",
    "- Para esta análise de dados não precisaremos do link da imagem nem da origem da notícia\n",
    "- Vamos trabalhar apenas com a coluna `info` e a coluna `target`"
   ]
  },
  {
   "cell_type": "code",
   "execution_count": null,
   "id": "vanilla-hartford",
   "metadata": {},
   "outputs": [],
   "source": [
    "todas_noticias = todas_noticias[['info', 'target']]\n",
    "todas_noticias.sample(5)"
   ]
  },
  {
   "cell_type": "markdown",
   "id": "ordinary-graph",
   "metadata": {},
   "source": [
    "**Renomeando:** Serão renomeadas o nome das colunas para português, estamos trabalhando com dados em português e o código também segue o padrão português, também para facilitar o entendimento de quem irá consumir este notebook"
   ]
  },
  {
   "cell_type": "code",
   "execution_count": null,
   "id": "straight-offense",
   "metadata": {},
   "outputs": [],
   "source": [
    "colunas = {'info': 'texto', 'target': 'classificacao'}\n",
    "todas_noticias.rename(columns=colunas, inplace=True)"
   ]
  },
  {
   "cell_type": "code",
   "execution_count": null,
   "id": "indie-casting",
   "metadata": {},
   "outputs": [],
   "source": [
    "len(todas_noticias[todas_noticias.classificacao == 'verdadeiro'])"
   ]
  },
  {
   "cell_type": "code",
   "execution_count": null,
   "id": "graphic-double",
   "metadata": {},
   "outputs": [],
   "source": [
    "len(todas_noticias[todas_noticias.classificacao == 'falso'])"
   ]
  },
  {
   "cell_type": "code",
   "execution_count": null,
   "id": "biological-declaration",
   "metadata": {},
   "outputs": [],
   "source": [
    "len(todas_noticias)"
   ]
  },
  {
   "cell_type": "markdown",
   "id": "tough-explosion",
   "metadata": {},
   "source": [
    "- Verificar se existem dados vazios ou inválidos nas colunas info e target"
   ]
  },
  {
   "cell_type": "code",
   "execution_count": null,
   "id": "surrounded-cherry",
   "metadata": {},
   "outputs": [],
   "source": [
    "num_texto_null = len(todas_noticias[todas_noticias['texto'].isnull()])\n",
    "num_texto_vazio = len(todas_noticias[todas_noticias['texto'].isna()])\n",
    "assert  num_texto_null + num_texto_vazio == 0"
   ]
  },
  {
   "cell_type": "code",
   "execution_count": null,
   "id": "induced-civilization",
   "metadata": {},
   "outputs": [],
   "source": [
    "num_classificacao_null = len(todas_noticias[todas_noticias['classificacao'].isnull()]) \n",
    "num_classificacao_vazio = len(todas_noticias[todas_noticias['classificacao'].isna()])\n",
    "assert num_classificacao_vazio + num_classificacao_null == 0"
   ]
  },
  {
   "cell_type": "markdown",
   "id": "social-cache",
   "metadata": {},
   "source": [
    "### Normalizando os dados\n",
    "\n",
    "- Passar todos os dados para lowercase para que não haja distinção entre maíusculo e minúsculo\n",
    "- Remover acentuação, aspas e possíveis caracteres especiais"
   ]
  },
  {
   "cell_type": "code",
   "execution_count": null,
   "id": "herbal-atlas",
   "metadata": {},
   "outputs": [],
   "source": [
    "todas_noticias.texto = todas_noticias.texto.map(lambda x: x.lower())"
   ]
  },
  {
   "cell_type": "markdown",
   "id": "federal-programmer",
   "metadata": {},
   "source": [
    "### Removendo acentuação \n",
    "\n",
    "- usando a lib `unidecode` remove a acentuação das palavras"
   ]
  },
  {
   "cell_type": "code",
   "execution_count": null,
   "id": "arranged-serve",
   "metadata": {},
   "outputs": [],
   "source": [
    "todas_noticias.texto = todas_noticias.texto.map(lambda x: unidecode(x))"
   ]
  },
  {
   "cell_type": "markdown",
   "id": "closed-portugal",
   "metadata": {},
   "source": [
    "### Removendo caracteres especiais\n",
    "\n",
    "- Expressões regulares podem ser usadas para remover caracteres especiais\n"
   ]
  },
  {
   "cell_type": "code",
   "execution_count": null,
   "id": "worse-taxation",
   "metadata": {},
   "outputs": [],
   "source": [
    "todas_noticias.texto = todas_noticias.texto.map(lambda x: re.sub('[\\W_0-9]+', ' ', x))"
   ]
  },
  {
   "cell_type": "markdown",
   "id": "corporate-hollow",
   "metadata": {},
   "source": [
    "## Contando as palavaras\n",
    "\n",
    "- Montando um contador geral \n",
    "- Montando um contador de palavras comuns para fake news\n",
    "- Montando um contador de palavras comuns para notícias verdadeiras\n"
   ]
  },
  {
   "cell_type": "code",
   "execution_count": null,
   "id": "joint-oliver",
   "metadata": {},
   "outputs": [],
   "source": [
    "verdadeiro_count = collections.Counter()\n",
    "falso_count = collections.Counter()\n",
    "todas_count = collections.Counter()"
   ]
  },
  {
   "cell_type": "code",
   "execution_count": null,
   "id": "finished-first",
   "metadata": {},
   "outputs": [],
   "source": [
    "def contagem(contador_por_classe, noticia):\n",
    "    for palavra in noticia:\n",
    "        print(palavra)\n",
    "        contador_por_classe.update(palavra)\n",
    "        todas_count.update(palavra)\n",
    "    return contador_por_classe\n",
    "    "
   ]
  },
  {
   "cell_type": "code",
   "execution_count": null,
   "id": "earlier-pickup",
   "metadata": {},
   "outputs": [],
   "source": [
    "for index, row in todas_noticias.iterrows():\n",
    "    noticia = row['texto'].split(' ')\n",
    "    if row['classificacao'] == 'verdadeiro':\n",
    "        verdadeiro_count.update(noticia)\n",
    "    else:\n",
    "        falso_count.update(noticia)\n",
    "    todas_count.update(noticia)"
   ]
  },
  {
   "cell_type": "code",
   "execution_count": null,
   "id": "sharing-thailand",
   "metadata": {},
   "outputs": [],
   "source": [
    "razao_falso_verdadeira = collections.Counter()"
   ]
  },
  {
   "cell_type": "code",
   "execution_count": null,
   "id": "valued-tender",
   "metadata": {},
   "outputs": [],
   "source": [
    "for word, count in list(todas_count.most_common()):\n",
    "    if count > 10:\n",
    "        razao = verdadeiro_count[word] / float(falso_count[word] + 1)\n",
    "        razao_falso_verdadeira[word] = razao"
   ]
  },
  {
   "cell_type": "code",
   "execution_count": null,
   "id": "choice-danish",
   "metadata": {},
   "outputs": [],
   "source": [
    "nltk.download('stopwords')"
   ]
  },
  {
   "cell_type": "code",
   "execution_count": null,
   "id": "crude-enforcement",
   "metadata": {},
   "outputs": [],
   "source": [
    "verdadeiro_count_plot = verdadeiro_count.copy()\n",
    "falso_count_plot = falso_count.copy()"
   ]
  },
  {
   "cell_type": "code",
   "execution_count": null,
   "id": "owned-superintendent",
   "metadata": {},
   "outputs": [],
   "source": [
    "stopwords = nltk.corpus.stopwords.words('portuguese')"
   ]
  },
  {
   "cell_type": "code",
   "execution_count": null,
   "id": "contemporary-difficulty",
   "metadata": {},
   "outputs": [],
   "source": [
    "palavras_comuns = [unidecode(palavra) for palavra in stopwords]"
   ]
  },
  {
   "cell_type": "code",
   "execution_count": null,
   "id": "interested-prediction",
   "metadata": {},
   "outputs": [],
   "source": [
    "for palavra in palavras_comuns:\n",
    "    if palavra in list(falso_count):\n",
    "        del falso_count[palavra]\n",
    "    if palavra in list(verdadeiro_count):\n",
    "        del verdadeiro_count[palavra]   "
   ]
  },
  {
   "cell_type": "code",
   "execution_count": null,
   "id": "alpine-garlic",
   "metadata": {},
   "outputs": [],
   "source": [
    "vocabulario = set(todas_count.keys())   "
   ]
  },
  {
   "cell_type": "code",
   "execution_count": null,
   "id": "charitable-american",
   "metadata": {},
   "outputs": [],
   "source": [
    "len(vocabulario)"
   ]
  },
  {
   "cell_type": "code",
   "execution_count": null,
   "id": "bound-block",
   "metadata": {},
   "outputs": [],
   "source": [
    "len(todas_noticias)"
   ]
  },
  {
   "cell_type": "markdown",
   "id": "still-nicaragua",
   "metadata": {},
   "source": [
    "## Visualização de dados"
   ]
  },
  {
   "cell_type": "code",
   "execution_count": null,
   "id": "variable-chase",
   "metadata": {},
   "outputs": [],
   "source": [
    "import matplotlib.pyplot as plt\n",
    "%matplotlib inline"
   ]
  },
  {
   "cell_type": "code",
   "execution_count": null,
   "id": "expensive-ready",
   "metadata": {},
   "outputs": [],
   "source": [
    "import seaborn as sns"
   ]
  },
  {
   "cell_type": "code",
   "execution_count": null,
   "id": "lesbian-recognition",
   "metadata": {},
   "outputs": [],
   "source": [
    "df_most_commom = pd.DataFrame(todas_count.most_common(), columns=['word', 'count'])"
   ]
  },
  {
   "cell_type": "code",
   "execution_count": null,
   "id": "spare-destruction",
   "metadata": {},
   "outputs": [],
   "source": [
    "## top mais comuns\n",
    "df_most_commom[:20].plot.barh(x='word', y='count', color='blue').invert_yaxis()\n",
    "plt.gcf().set_size_inches(12,6)\n",
    "plt.rcParams.update({'font.size': 22})"
   ]
  },
  {
   "cell_type": "code",
   "execution_count": null,
   "id": "accessible-picking",
   "metadata": {},
   "outputs": [],
   "source": [
    "df_all = pd.DataFrame.from_dict(todas_count, orient='index').reset_index()\n",
    "df_all.head()\n",
    "df_all.rename(columns={'index':'word', 0:'count'}, inplace=True)"
   ]
  },
  {
   "cell_type": "code",
   "execution_count": null,
   "id": "extreme-christianity",
   "metadata": {},
   "outputs": [],
   "source": [
    "df_verdadeiro_count = pd.DataFrame(verdadeiro_count_plot.most_common(),columns=['word','count'])\n",
    "df_verdadeiro_count.head()"
   ]
  },
  {
   "cell_type": "code",
   "execution_count": null,
   "id": "legal-gates",
   "metadata": {},
   "outputs": [],
   "source": [
    "df_falso_count = pd.DataFrame(falso_count_plot.most_common(), columns=['word', 'count'])\n",
    "df_falso_count.head()"
   ]
  },
  {
   "cell_type": "code",
   "execution_count": null,
   "id": "chubby-visiting",
   "metadata": {},
   "outputs": [],
   "source": [
    "ax = sns.barplot(y='word', x='count', data=df_verdadeiro_count[:20],  color = 'blue')\n",
    "plt.gcf().set_size_inches(12,6)\n",
    "plt.rcParams.update({'font.size': 22})\n",
    "ax.set(xlabel='Quantidade de repetições', ylabel='Palavra')\n",
    "plt.show()"
   ]
  },
  {
   "cell_type": "code",
   "execution_count": null,
   "id": "forward-tunnel",
   "metadata": {},
   "outputs": [],
   "source": [
    "df_verdadeiro_count[:20].plot.barh(x='word', y='count', color='blue').invert_yaxis()\n",
    "plt.gcf().set_size_inches(12,6)\n",
    "plt.rcParams.update({'font.size': 20})"
   ]
  },
  {
   "cell_type": "code",
   "execution_count": null,
   "id": "developing-motivation",
   "metadata": {},
   "outputs": [],
   "source": [
    "ax = sns.barplot(y='word', x='count', data=df_falso_count[:20], color='red')\n",
    "plt.gcf().set_size_inches(12,6)\n",
    "ax.set(xlabel='Quantidade de repetições', ylabel='Palavra')\n",
    "plt.rcParams.update({'font.size': 22})"
   ]
  },
  {
   "cell_type": "code",
   "execution_count": null,
   "id": "combined-intranet",
   "metadata": {
    "scrolled": false
   },
   "outputs": [],
   "source": [
    "df_falso_count[:20].plot.barh(x='word', y='count', color='red').invert_yaxis()\n",
    "plt.gcf().set_size_inches(12,6)\n"
   ]
  },
  {
   "cell_type": "code",
   "execution_count": null,
   "id": "powerful-manual",
   "metadata": {},
   "outputs": [],
   "source": [
    "df_verdadeiro_mc_whithout_sw = pd.DataFrame(verdadeiro_count.most_common(), columns=['word', 'count'])\n",
    "df_falso_mc_whithout_sw = pd.DataFrame(falso_count.most_common(), columns=['word', 'count'])"
   ]
  },
  {
   "cell_type": "code",
   "execution_count": null,
   "id": "lesbian-speed",
   "metadata": {},
   "outputs": [],
   "source": [
    "ax = sns.barplot(y='word', x='count', data=df_falso_mc_whithout_sw[:20], color='red')\n",
    "plt.gcf().set_size_inches(12,6)\n",
    "ax.set(xlabel='Quantidade de repetições', ylabel='Palavra')\n",
    "plt.rcParams.update({'font.size': 22})"
   ]
  },
  {
   "cell_type": "code",
   "execution_count": null,
   "id": "empirical-receptor",
   "metadata": {
    "scrolled": true
   },
   "outputs": [],
   "source": [
    "df_falso_mc_whithout_sw.sort_values(by='count', ascending=False)\n",
    "df_falso_mc_whithout_sw[:30].plot.barh(x='word', y='count', color='red').invert_yaxis()\n",
    "plt.gcf().set_size_inches(17,12)\n",
    "plt.rcParams.update({'font.size': 22})"
   ]
  },
  {
   "cell_type": "code",
   "execution_count": null,
   "id": "monthly-guinea",
   "metadata": {},
   "outputs": [],
   "source": [
    "df_verdadeiro_mc_whithout_sw.sort_values(by='count', ascending=False)\n",
    "df_verdadeiro_mc_whithout_sw[:30].plot.barh(x='word', y='count', color='blue').invert_yaxis()\n",
    "plt.gcf().set_size_inches(12,9)\n",
    "plt.rcParams.update({'font.size': 20})"
   ]
  },
  {
   "cell_type": "code",
   "execution_count": null,
   "id": "executed-mauritius",
   "metadata": {},
   "outputs": [],
   "source": [
    "ax = sns.barplot(y='word', x='count', data=df_verdadeiro_mc_whithout_sw[:20], color='blue')\n",
    "plt.gcf().set_size_inches(12,6)\n",
    "ax.set(xlabel='Quantidade de repetições', ylabel='Palavra')\n",
    "plt.rcParams.update({'font.size': 22})"
   ]
  },
  {
   "cell_type": "code",
   "execution_count": null,
   "id": "unique-petite",
   "metadata": {},
   "outputs": [],
   "source": [
    "from wordcloud import WordCloud, ImageColorGenerator"
   ]
  },
  {
   "cell_type": "code",
   "execution_count": null,
   "id": "fatal-protocol",
   "metadata": {},
   "outputs": [],
   "source": [
    "verdadeiro_cloud = WordCloud(stopwords=stopwords).generate_from_frequencies(verdadeiro_count)\n",
    "\n",
    "plt.imshow(verdadeiro_cloud)\n",
    "plt.gcf().set_size_inches(12,6)\n",
    "plt.rcParams.update({'font.size': 22})"
   ]
  },
  {
   "cell_type": "code",
   "execution_count": null,
   "id": "unsigned-template",
   "metadata": {},
   "outputs": [],
   "source": [
    "falso_count_cloud = WordCloud(stopwords=stopwords).generate_from_frequencies(falso_count)\n",
    "\n",
    "plt.imshow(falso_count_cloud)\n",
    "plt.gcf().set_size_inches(12,6)\n",
    "plt.rcParams.update({'font.size': 22})"
   ]
  },
  {
   "cell_type": "code",
   "execution_count": null,
   "id": "provincial-kruger",
   "metadata": {},
   "outputs": [],
   "source": [
    "#Quantidade total de noticias\n",
    "total = len(todas_noticias)\n",
    "total"
   ]
  },
  {
   "cell_type": "code",
   "execution_count": null,
   "id": "northern-calgary",
   "metadata": {},
   "outputs": [],
   "source": [
    "#total de falsas\n",
    "total_falsas = len(todas_noticias[todas_noticias.classificacao == 'falso'])\n",
    "total_falsas"
   ]
  },
  {
   "cell_type": "code",
   "execution_count": null,
   "id": "flying-irrigation",
   "metadata": {},
   "outputs": [],
   "source": [
    "#total de verdadeiras\n",
    "total_verdadeiras = len(todas_noticias[todas_noticias.classificacao == 'verdadeiro'])\n",
    "total_verdadeiras"
   ]
  },
  {
   "cell_type": "code",
   "execution_count": null,
   "id": "metropolitan-trash",
   "metadata": {},
   "outputs": [],
   "source": [
    "#Porcentagem falsa\n",
    "porcentagem_falsa = total_falsas / total * 100\n",
    "porcentagem_verdadeira = total_verdadeiras / total * 100"
   ]
  },
  {
   "cell_type": "code",
   "execution_count": null,
   "id": "great-accreditation",
   "metadata": {},
   "outputs": [],
   "source": [
    "fatias = [porcentagem_falsa, porcentagem_verdadeira]\n",
    "labels = ['Falsas', 'Verdadeiras']\n",
    "fig1 = plt.subplot()\n",
    "ax = fig1.pie(fatias, labels=labels, autopct='%1.1f%%')\n",
    "plt.gcf().set_size_inches(12,6)\n",
    "plt.rcParams.update({'font.size': 22})\n",
    "\n",
    "plt.show()\n"
   ]
  },
  {
   "cell_type": "code",
   "execution_count": null,
   "id": "biblical-compiler",
   "metadata": {},
   "outputs": [],
   "source": [
    "## Media\n",
    "falsas = todas_noticias[todas_noticias.classificacao == 'falso']\n",
    "somatorio_falsas = falsas.texto.map(lambda x: len(x))\n",
    "somatorio_falsas.mean()"
   ]
  },
  {
   "cell_type": "code",
   "execution_count": null,
   "id": "illegal-bicycle",
   "metadata": {},
   "outputs": [],
   "source": [
    "## Media\n",
    "verdadeiras = todas_noticias[todas_noticias.classificacao == 'verdadeiro']\n",
    "somatorio_verdadeiras = verdadeiras.texto.map(lambda x: len(x))\n",
    "somatorio_verdadeiras.mean()"
   ]
  },
  {
   "cell_type": "code",
   "execution_count": null,
   "id": "impaired-discrimination",
   "metadata": {},
   "outputs": [],
   "source": [
    "#Mediana\n",
    "somatorio_falsas.median()"
   ]
  },
  {
   "cell_type": "code",
   "execution_count": null,
   "id": "lined-basin",
   "metadata": {},
   "outputs": [],
   "source": [
    "#Mediana\n",
    "somatorio_verdadeiras.median()"
   ]
  },
  {
   "cell_type": "code",
   "execution_count": null,
   "id": "transsexual-clerk",
   "metadata": {},
   "outputs": [],
   "source": [
    "#Moda\n",
    "somatorio_falsas.mode()"
   ]
  },
  {
   "cell_type": "code",
   "execution_count": null,
   "id": "directed-bunch",
   "metadata": {},
   "outputs": [],
   "source": [
    "#Moda\n",
    "somatorio_verdadeiras.mode()"
   ]
  },
  {
   "cell_type": "code",
   "execution_count": null,
   "id": "insured-charter",
   "metadata": {},
   "outputs": [],
   "source": [
    "np.seterr(divide = 'ignore') \n",
    "razao_falso_verdadeira_log = {k: np.log(v) for k, v in razao_falso_verdadeira.items()}"
   ]
  },
  {
   "cell_type": "code",
   "execution_count": null,
   "id": "defined-portal",
   "metadata": {},
   "outputs": [],
   "source": [
    "s  = pd.Series(razao_falso_verdadeira_log,index=razao_falso_verdadeira_log.keys()).to_frame()\n",
    "s.rename(columns = {0: 'razao'}, inplace=True)\n",
    "s.head()\n",
    "\n",
    "s.replace([np.inf, -np.inf], np.nan, inplace=True)\n",
    "s.dropna(inplace=True)\n",
    "s['razao'] = s['razao'].map(lambda x: np.float(x))\n"
   ]
  },
  {
   "cell_type": "code",
   "execution_count": null,
   "id": "empirical-quantity",
   "metadata": {},
   "outputs": [],
   "source": [
    "hist_counter = collections.Counter(s.to_dict())"
   ]
  },
  {
   "cell_type": "code",
   "execution_count": null,
   "id": "conscious-drinking",
   "metadata": {},
   "outputs": [],
   "source": [
    "razao_range = np.arange(min(s['razao']), max(s['razao']), 0.2)"
   ]
  },
  {
   "cell_type": "code",
   "execution_count": null,
   "id": "worldwide-visibility",
   "metadata": {},
   "outputs": [],
   "source": [
    "hist = plt.hist(s['razao'],density=True,bins=razao_range)\n",
    "plt.gcf().set_size_inches(12,6)\n",
    "plt.rcParams.update({'font.size': 22})\n",
    "plt.show()\n"
   ]
  },
  {
   "cell_type": "code",
   "execution_count": null,
   "id": "acoustic-teacher",
   "metadata": {},
   "outputs": [],
   "source": [
    "raz = sns.distplot(s['razao'])\n",
    "plt.gcf().set_size_inches(12,6)\n",
    "plt.rcParams.update({'font.size': 22})\n",
    "raz.figure.set_size_inches(12,6)\n",
    "raz.set_xticks(range(-4,7))\n",
    "raz.set(xlabel='Razão', ylabel='Densidade')"
   ]
  },
  {
   "cell_type": "code",
   "execution_count": null,
   "id": "speaking-payment",
   "metadata": {},
   "outputs": [],
   "source": [
    "verdadeiras = []\n",
    "for nome, cont in verdadeiro_count.items():\n",
    "    if nome in razao_falso_verdadeira_log.keys():\n",
    "        ratio = razao_falso_verdadeira_log[nome]\n",
    "        if not np.isinf(ratio):\n",
    "            verdadeiras.append({'palavra':nome, 'cont': cont, 'ratio': ratio})\n",
    "verdadeiras = pd.DataFrame(verdadeiras)\n",
    "verdadeiras.sample(5)\n",
    "min(verdadeiras['ratio'])"
   ]
  },
  {
   "cell_type": "code",
   "execution_count": null,
   "id": "stretch-craft",
   "metadata": {},
   "outputs": [],
   "source": [
    "falsas = []\n",
    "for nome, cont in falso_count.items():\n",
    "    if nome in razao_falso_verdadeira_log.keys():\n",
    "        ratio = razao_falso_verdadeira_log[nome]\n",
    "        if not np.isinf(ratio):\n",
    "            falsas.append({'palavra':nome, 'cont': cont, 'ratio': ratio})\n",
    "falsas = pd.DataFrame(falsas)\n",
    "\n",
    "falsas.sample(5)\n"
   ]
  },
  {
   "cell_type": "code",
   "execution_count": null,
   "id": "mighty-muslim",
   "metadata": {},
   "outputs": [],
   "source": [
    "data_ratio = pd.DataFrame.from_dict(razao_falso_verdadeira_log, orient='index').reset_index()\n",
    "\n",
    "data_ratio.rename(columns={'index':'word', 0:'ratio'}, inplace=True)\n",
    "data_ratio.head(10)"
   ]
  },
  {
   "cell_type": "code",
   "execution_count": null,
   "id": "round-appeal",
   "metadata": {},
   "outputs": [],
   "source": []
  },
  {
   "cell_type": "code",
   "execution_count": null,
   "id": "indie-australian",
   "metadata": {},
   "outputs": [],
   "source": [
    "stop = []\n",
    "for nome in stopwords:\n",
    "    if nome in razao_falso_verdadeira_log.keys():\n",
    "        ratio = razao_falso_verdadeira_log[nome]\n",
    "        cont = todas_count[nome]\n",
    "        if not np.isinf(ratio):\n",
    "            stop.append({'palavra':nome, 'cont': cont, 'ratio': ratio})\n",
    "stop = pd.DataFrame(stop)\n",
    "stop.sample(5)"
   ]
  },
  {
   "cell_type": "code",
   "execution_count": null,
   "id": "acceptable-fabric",
   "metadata": {},
   "outputs": [],
   "source": [
    "stop_df = []\n",
    "for nome in stopwords:\n",
    "    if nome in razao_falso_verdadeira_log.keys():\n",
    "        ratio = razao_falso_verdadeira_log[nome]\n",
    "        cont = todas_count[nome]\n",
    "        if not np.isinf(ratio):\n",
    "            stop_df.append({'palavra':nome, 'count': cont, 'ratio': ratio, 'classe':'Neutro'})\n",
    "stop_df = pd.DataFrame(stop_df)\n",
    "stop_df.sample(5)"
   ]
  },
  {
   "cell_type": "code",
   "execution_count": null,
   "id": "fundamental-furniture",
   "metadata": {},
   "outputs": [],
   "source": [
    "stop_df.rename(columns={'palavra':'word', 'cont':'count'}, inplace=True)"
   ]
  },
  {
   "cell_type": "code",
   "execution_count": null,
   "id": "altered-clerk",
   "metadata": {},
   "outputs": [],
   "source": [
    "falsas['classe'] = 'Flaso'"
   ]
  },
  {
   "cell_type": "code",
   "execution_count": null,
   "id": "center-favor",
   "metadata": {},
   "outputs": [],
   "source": [
    "falsas.rename(columns={'palavra': 'word', 'cont': 'count'}, inplace=True)"
   ]
  },
  {
   "cell_type": "code",
   "execution_count": null,
   "id": "dramatic-absolute",
   "metadata": {},
   "outputs": [],
   "source": [
    "verdadeiras['classe'] = 'Verdadeiro'"
   ]
  },
  {
   "cell_type": "code",
   "execution_count": null,
   "id": "large-adventure",
   "metadata": {
    "scrolled": true
   },
   "outputs": [],
   "source": [
    "verdadeiras.rename(columns={'palavra': 'word', 'cont': 'count'}, inplace=True)"
   ]
  },
  {
   "cell_type": "code",
   "execution_count": null,
   "id": "instructional-witness",
   "metadata": {},
   "outputs": [],
   "source": [
    "all_count_ratio = pd.concat([stop_df, verdadeiras, falsas])"
   ]
  },
  {
   "cell_type": "code",
   "execution_count": null,
   "id": "elder-crossing",
   "metadata": {},
   "outputs": [],
   "source": [
    "all_count_ratio.head()"
   ]
  },
  {
   "cell_type": "code",
   "execution_count": null,
   "id": "undefined-chicken",
   "metadata": {
    "scrolled": false
   },
   "outputs": [],
   "source": [
    "ax = sns.boxplot(x='classe', y='ratio', data=all_count_ratio)\n",
    "ax.figure.set_size_inches(12,6)\n",
    "plt.rcParams.update({'font.size': 22})"
   ]
  },
  {
   "cell_type": "code",
   "execution_count": null,
   "id": "damaged-treasurer",
   "metadata": {},
   "outputs": [],
   "source": [
    "ax = sns.violinplot(x='classe', y='ratio', data=all_count_ratio)\n",
    "ax.figure.set_size_inches(12,6)\n",
    "plt.rcParams.update({'font.size': 22})"
   ]
  },
  {
   "cell_type": "code",
   "execution_count": null,
   "id": "logical-concentration",
   "metadata": {
    "scrolled": false
   },
   "outputs": [],
   "source": [
    "ax = sns.catplot(x='classe',y='ratio', data=all_count_ratio, height=10, s=3,  palette={'Neutro':'g','Verdadeiro':'b','Flaso':'r'})\n",
    "plt.gcf().set_size_inches(12,6)\n",
    "plt.rcParams.update({'font.size': 22})"
   ]
  },
  {
   "cell_type": "code",
   "execution_count": null,
   "id": "corporate-brooklyn",
   "metadata": {
    "scrolled": false
   },
   "outputs": [],
   "source": [
    "sns.relplot(x='count', y='ratio', hue='classe', col='classe', data=all_count_ratio)\n",
    "plt.gcf().set_size_inches(12,6)\n",
    "plt.rcParams.update({'font.size': 20})"
   ]
  },
  {
   "cell_type": "code",
   "execution_count": null,
   "id": "humanitarian-chocolate",
   "metadata": {},
   "outputs": [],
   "source": [
    "len(falsas)"
   ]
  },
  {
   "cell_type": "code",
   "execution_count": null,
   "id": "productive-jenny",
   "metadata": {},
   "outputs": [],
   "source": [
    "len(falsas)\n",
    "ax = sns.lmplot(x='count', y='ratio', data=falsas)\n",
    "ax.set(xlabel='Quantidade', ylabel='Razão')\n",
    "plt.gcf().set_size_inches(12, 6)\n",
    "plt.rcParams.update({'font.size': 22})\n"
   ]
  },
  {
   "cell_type": "code",
   "execution_count": null,
   "id": "mexican-shock",
   "metadata": {},
   "outputs": [],
   "source": [
    "ax = sns.lmplot(x='count', y='ratio', data=verdadeiras)\n",
    "ax.set(xlabel='Quantidade', ylabel='Razão')\n",
    "plt.gcf().set_size_inches(12, 6)\n",
    "plt.rcParams.update({'font.size': 22})"
   ]
  },
  {
   "cell_type": "code",
   "execution_count": null,
   "id": "inclusive-homework",
   "metadata": {},
   "outputs": [],
   "source": [
    "ax = sns.lmplot(x='cont', y='ratio', data=stop)\n",
    "ax.set(xlabel='Quantidade', ylabel='Razão')\n",
    "plt.gcf().set_size_inches(12, 6)\n",
    "\n",
    "plt.rcParams.update({'font.size': 14})"
   ]
  },
  {
   "cell_type": "code",
   "execution_count": null,
   "id": "compact-growth",
   "metadata": {},
   "outputs": [],
   "source": [
    "from scipy.stats import ranksums\n",
    "pvalue = ranksums(falsas['ratio'], verdadeiras['ratio']).pvalue\n",
    "pvalue"
   ]
  },
  {
   "cell_type": "code",
   "execution_count": null,
   "id": "living-today",
   "metadata": {},
   "outputs": [],
   "source": [
    "from scipy.stats import ranksums\n",
    "pvalue_count = ranksums(falsas['count'], verdadeiras['count'])\n",
    "pvalue_count.pvalue"
   ]
  },
  {
   "cell_type": "code",
   "execution_count": null,
   "id": "informational-boutique",
   "metadata": {
    "scrolled": true
   },
   "outputs": [],
   "source": [
    "plt.rc('figure', figsize=(10,5))\n",
    "hist = plt.hist(verdadeiras['ratio'],density=True,bins=razao_range)\n",
    "plt.show()"
   ]
  },
  {
   "cell_type": "code",
   "execution_count": null,
   "id": "waiting-driving",
   "metadata": {},
   "outputs": [],
   "source": [
    "hist = plt.hist(falsas['ratio'],density=True,bins=razao_range)\n",
    "plt.show()"
   ]
  },
  {
   "cell_type": "code",
   "execution_count": null,
   "id": "about-challenge",
   "metadata": {},
   "outputs": [],
   "source": [
    "ax = sns.displot(verdadeiras['ratio'])\n",
    "plt.gcf().set_size_inches(12, 6)"
   ]
  },
  {
   "cell_type": "code",
   "execution_count": null,
   "id": "indirect-hartford",
   "metadata": {},
   "outputs": [],
   "source": [
    "sns.displot(falsas['ratio'])\n",
    "plt.gcf().set_size_inches(12, 6)"
   ]
  },
  {
   "cell_type": "code",
   "execution_count": null,
   "id": "disturbed-nashville",
   "metadata": {},
   "outputs": [],
   "source": [
    "fig = plt.figure(figsize=(12,6))\n",
    "ax1 = fig.add_subplot(111)\n",
    "\n",
    "ax1.hist(falsas['ratio'],density=True,bins=razao_range, color = 'red')\n",
    "ax1.hist(verdadeiras['ratio'],density=True,bins=razao_range, color = 'blue')\n",
    "#plt.rc('figure', figsize = (10,10))\n",
    "plt.show()"
   ]
  },
  {
   "cell_type": "code",
   "execution_count": null,
   "id": "driving-links",
   "metadata": {},
   "outputs": [],
   "source": [
    "fig = plt.figure(figsize=(12,6))\n",
    "ax1 = fig.add_subplot(111)\n",
    "\n",
    "\n",
    "ax1.hist(verdadeiras['ratio'],density=True,bins=razao_range, color = \"blue\")\n",
    "ax1.hist(falsas['ratio'],density=True,bins=razao_range, color = \"red\")\n",
    "plt.show()"
   ]
  },
  {
   "cell_type": "code",
   "execution_count": null,
   "id": "optical-stack",
   "metadata": {},
   "outputs": [],
   "source": [
    "verdadeiras"
   ]
  },
  {
   "cell_type": "code",
   "execution_count": null,
   "id": "under-parallel",
   "metadata": {},
   "outputs": [],
   "source": [
    "verdadeiras.query('word == \"racista\"')"
   ]
  },
  {
   "cell_type": "code",
   "execution_count": null,
   "id": "strange-bangkok",
   "metadata": {},
   "outputs": [],
   "source": [
    "falsas.query('word == \"racista\"')"
   ]
  },
  {
   "cell_type": "code",
   "execution_count": null,
   "id": "renewable-pickup",
   "metadata": {},
   "outputs": [],
   "source": [
    "falso_count['cloroquina']"
   ]
  },
  {
   "cell_type": "code",
   "execution_count": null,
   "id": "activated-phoenix",
   "metadata": {},
   "outputs": [],
   "source": [
    "verdadeiro_count['cloroquina']"
   ]
  },
  {
   "cell_type": "code",
   "execution_count": null,
   "id": "handled-textbook",
   "metadata": {},
   "outputs": [],
   "source": [
    "fig = plt.figure(figsize=(12,6))\n",
    "falso_para_verdadeiro = []\n",
    "for palavra in falso_count.keys():\n",
    "    if palavra not in verdadeiro_count.keys():\n",
    "        falso_para_verdadeiro.append({'palavra': palavra, 'cont': falso_count[palavra]})\n",
    "falso_para_verdadeiro = pd.DataFrame(falso_para_verdadeiro)\n",
    "falso_para_verdadeiro.sort_values(by='cont', ascending=False)[0:20]\n",
    "\n",
    "falso_para_verdadeiro.sort_values(by='cont', ascending=False, inplace=True)\n",
    "ax = falso_para_verdadeiro[:30].plot.barh(x='palavra', y='cont', color='red').invert_yaxis()\n",
    "plt.gcf().set_size_inches(15, 10)"
   ]
  },
  {
   "cell_type": "code",
   "execution_count": null,
   "id": "geographic-springer",
   "metadata": {},
   "outputs": [],
   "source": [
    "ax = sns.barplot(y='palavra', x='cont', data=falso_para_verdadeiro[:30])\n",
    "plt.gcf().set_size_inches(15, 10)"
   ]
  },
  {
   "cell_type": "code",
   "execution_count": null,
   "id": "cathedral-fireplace",
   "metadata": {},
   "outputs": [],
   "source": [
    "verdadeiro_para_falso = []\n",
    "for palavra in verdadeiro_count.keys():\n",
    "    if palavra not in falso_count.keys():\n",
    "        verdadeiro_para_falso.append({'palavra': palavra, 'cont': verdadeiro_count[palavra]})\n",
    "verdadeiro_para_falso = pd.DataFrame(verdadeiro_para_falso)\n",
    "verdadeiro_para_falso.sort_values(by='cont', ascending=False)[0:20]\n",
    "\n",
    "verdadeiro_para_falso.sort_values(by='cont', ascending=False, inplace=True)\n",
    "verdadeiro_para_falso[:30].plot.barh(x='palavra', y='cont', color='blue').invert_yaxis()\n",
    "plt.gcf().set_size_inches(15, 10)"
   ]
  },
  {
   "cell_type": "code",
   "execution_count": null,
   "id": "speaking-findings",
   "metadata": {},
   "outputs": [],
   "source": [
    "ax = sns.barplot(y='palavra', x='cont', data=verdadeiro_para_falso[:30])\n",
    "plt.gcf().set_size_inches(15, 10)"
   ]
  },
  {
   "cell_type": "markdown",
   "id": "amended-kitchen",
   "metadata": {},
   "source": [
    "## Construindo um modelo"
   ]
  },
  {
   "cell_type": "markdown",
   "id": "delayed-scott",
   "metadata": {},
   "source": [
    "- Funções utilitárias"
   ]
  },
  {
   "cell_type": "code",
   "execution_count": null,
   "id": "another-diesel",
   "metadata": {},
   "outputs": [],
   "source": [
    "def formatar_lote_de_noticias(noticias):\n",
    "    lote = []\n",
    "    for i, linha in noticias.iterrows():\n",
    "        contagem = dict.fromkeys(vocabulario, 0)\n",
    "        palavras = linha['texto'].split()\n",
    "        \n",
    "        for palavra in palavras:\n",
    "            contagem[palavra] += 1\n",
    "        lote.append(contagem)\n",
    "    \n",
    "    return pd.DataFrame(lote)"
   ]
  },
  {
   "cell_type": "code",
   "execution_count": null,
   "id": "growing-waters",
   "metadata": {},
   "outputs": [],
   "source": [
    "def formatar_lote_de_noticias_sim_nao(noticias):\n",
    "    lote = []\n",
    "    for i, linha in noticias.iterrows():\n",
    "        contagem = dict.fromkeys(vocabulario, 0)\n",
    "        palavras = linha['texto'].split()\n",
    "        \n",
    "        for palavra in palavras:\n",
    "            contagem[palavra] = 1\n",
    "        lote.append(contagem)\n",
    "    \n",
    "    return pd.DataFrame(lote)"
   ]
  },
  {
   "cell_type": "code",
   "execution_count": null,
   "id": "pharmaceutical-carnival",
   "metadata": {},
   "outputs": [],
   "source": [
    "def format_labels(y_train):\n",
    "    rows = []\n",
    "    for value in y_train:\n",
    "        if value == 0:\n",
    "            rows.append([0,1])\n",
    "        else:\n",
    "            rows.append([1,0])\n",
    "    return rows"
   ]
  },
  {
   "cell_type": "code",
   "execution_count": null,
   "id": "typical-competition",
   "metadata": {},
   "outputs": [],
   "source": [
    "def classificar_noticia(est, noticia):\n",
    "    classe = est.predict(formatar_lote_de_noticias(pd.DataFrame([{'texto':noticia}])))[0]\n",
    "    return 'Verdadeiro' if classe == 1 else 'Falso'"
   ]
  },
  {
   "cell_type": "code",
   "execution_count": null,
   "id": "prepared-paraguay",
   "metadata": {},
   "outputs": [],
   "source": [
    "def classify(result):\n",
    "    if(result[0] == 0 and result[1] == 1):\n",
    "        return 0\n",
    "    else:\n",
    "        return 1"
   ]
  },
  {
   "cell_type": "markdown",
   "id": "negative-cleaners",
   "metadata": {},
   "source": [
    "- Construção dos modelos"
   ]
  },
  {
   "cell_type": "code",
   "execution_count": null,
   "id": "conventional-accountability",
   "metadata": {},
   "outputs": [],
   "source": [
    "tamanho_lote = 128"
   ]
  },
  {
   "cell_type": "code",
   "execution_count": null,
   "id": "early-raise",
   "metadata": {},
   "outputs": [],
   "source": [
    "noticia = 'cloroquina salva milhoes em tratamento precoce'"
   ]
  },
  {
   "cell_type": "code",
   "execution_count": null,
   "id": "black-parade",
   "metadata": {},
   "outputs": [],
   "source": [
    "noticias, classes = todas_noticias['texto'].to_frame(),todas_noticias['classificacao'].to_frame()"
   ]
  },
  {
   "cell_type": "code",
   "execution_count": null,
   "id": "proprietary-forth",
   "metadata": {},
   "outputs": [],
   "source": [
    "classes.classificacao = classes.classificacao.map(lambda x: 0 if x == 'falso' else 1)"
   ]
  },
  {
   "cell_type": "code",
   "execution_count": null,
   "id": "fabulous-albania",
   "metadata": {},
   "outputs": [],
   "source": [
    "from sklearn.model_selection import train_test_split\n",
    "\n",
    "X_train, X_test, y_train, y_test = train_test_split(noticias, classes['classificacao'].array, random_state=42)\n",
    "\n",
    "validacao_treino, validacao_classe = X_test[:2*tamanho_lote], y_test[:2*tamanho_lote]\n",
    "\n",
    "X_test, y_test = X_test[2*tamanho_lote:], y_test[2*tamanho_lote:]"
   ]
  },
  {
   "cell_type": "code",
   "execution_count": null,
   "id": "confident-blanket",
   "metadata": {},
   "outputs": [],
   "source": [
    "len(X_test)"
   ]
  },
  {
   "cell_type": "code",
   "execution_count": null,
   "id": "urban-springer",
   "metadata": {},
   "outputs": [],
   "source": [
    "x_test = formatar_lote_de_noticias(X_test)"
   ]
  },
  {
   "cell_type": "code",
   "execution_count": null,
   "id": "transparent-affiliation",
   "metadata": {},
   "outputs": [],
   "source": [
    "x_test_sn = formatar_lote_de_noticias_sim_nao(X_test)"
   ]
  },
  {
   "cell_type": "code",
   "execution_count": null,
   "id": "entertaining-denver",
   "metadata": {},
   "outputs": [],
   "source": [
    "x_test_batch = formatar_lote_de_noticias(X_test[0:128]).to_numpy()\n",
    "y_test_batch = np.asanyarray(format_labels(y_test[0:128].to_numpy()))"
   ]
  },
  {
   "cell_type": "code",
   "execution_count": null,
   "id": "rapid-building",
   "metadata": {},
   "outputs": [],
   "source": [
    "val_formated = formatar_lote_de_noticias(validacao_treino).to_numpy()\n",
    "val_formated_class = np.asanyarray(format_labels(validacao_classe.to_numpy()))"
   ]
  },
  {
   "cell_type": "code",
   "execution_count": null,
   "id": "auburn-probe",
   "metadata": {},
   "outputs": [],
   "source": [
    "val_formated_sn = formatar_lote_de_noticias_sim_nao(validacao_treino).to_numpy()\n",
    "val_formated_class_sn = np.asanyarray(format_labels(validacao_classe.to_numpy()))"
   ]
  },
  {
   "cell_type": "code",
   "execution_count": null,
   "id": "documentary-faculty",
   "metadata": {},
   "outputs": [],
   "source": [
    "import joblib\n",
    "from sklearn.metrics import confusion_matrix\n",
    "from sklearn.metrics import precision_recall_fscore_support\n",
    "from sklearn.metrics import accuracy_score\n",
    "from sklearn.metrics import classification_report\n",
    "\n",
    "target_names = ['Falso', 'Verdadeiro']"
   ]
  },
  {
   "cell_type": "markdown",
   "id": "related-dollar",
   "metadata": {},
   "source": [
    "### Importando modelos utilizados"
   ]
  },
  {
   "cell_type": "code",
   "execution_count": null,
   "id": "horizontal-means",
   "metadata": {},
   "outputs": [],
   "source": [
    "from sklearn.linear_model import SGDClassifier\n",
    "from sklearn.naive_bayes import MultinomialNB\n",
    "from sklearn.linear_model import Perceptron\n",
    "from sklearn.naive_bayes import BernoulliNB\n",
    "from sklearn.linear_model import PassiveAggressiveClassifier\n",
    "from keras.models import load_model\n",
    "import tensorflow as tf"
   ]
  },
  {
   "cell_type": "code",
   "execution_count": null,
   "id": "fossil-disaster",
   "metadata": {},
   "outputs": [],
   "source": [
    "stats = []"
   ]
  },
  {
   "cell_type": "markdown",
   "id": "precise-script",
   "metadata": {},
   "source": [
    "## SGD Classifier"
   ]
  },
  {
   "cell_type": "markdown",
   "id": "linear-chambers",
   "metadata": {},
   "source": [
    "- Testando modelo SGD Classifier"
   ]
  },
  {
   "cell_type": "code",
   "execution_count": null,
   "id": "lightweight-canada",
   "metadata": {},
   "outputs": [],
   "source": [
    "\n",
    "\n",
    "est = SGDClassifier(loss='log', penalty='l2', tol=1e-3)\n",
    "\n",
    "## Treinando\n",
    "\n",
    "inicio_lote = 0\n",
    "fim_lote = tamanho_lote\n",
    "\n",
    "total_lotes = str(int(len(X_train)/tamanho_lote))\n",
    "ultimo_lote = False\n",
    "i = 1\n",
    "while True:\n",
    "    x_train = formatar_lote_de_noticias(X_train[inicio_lote:fim_lote])\n",
    "    est.partial_fit(x_train, y_train[inicio_lote:fim_lote], classes=[0,1])\n",
    "    score = est.score(formatar_lote_de_noticias(validacao_treino), validacao_classe)\n",
    "    \n",
    "    print(f'Lote {i} of {total_lotes} - score: {score}')\n",
    "    time.sleep(0.10)\n",
    "    \n",
    "    inicio_lote += tamanho_lote\n",
    "    \n",
    "    if fim_lote + tamanho_lote > len(X_train):\n",
    "        fim_lote = len(X_train)\n",
    "        ultimo_lote = True\n",
    "    else:\n",
    "        fim_lote += tamanho_lote\n",
    "    \n",
    "    i += 1\n",
    "    if ultimo_lote:\n",
    "        break"
   ]
  },
  {
   "cell_type": "markdown",
   "id": "religious-probability",
   "metadata": {},
   "source": [
    "- Avaliando o modelo"
   ]
  },
  {
   "cell_type": "markdown",
   "id": "moral-marijuana",
   "metadata": {},
   "source": [
    "### Exportando o modelo SGD"
   ]
  },
  {
   "cell_type": "code",
   "execution_count": null,
   "id": "continuous-school",
   "metadata": {},
   "outputs": [],
   "source": [
    "joblib.dump(est, 'sgd.sav')"
   ]
  },
  {
   "cell_type": "markdown",
   "id": "dirty-template",
   "metadata": {},
   "source": [
    "### Carregar modelo SGD"
   ]
  },
  {
   "cell_type": "code",
   "execution_count": null,
   "id": "every-canadian",
   "metadata": {},
   "outputs": [],
   "source": [
    "sgd_model = joblib.load('sgd.sav')"
   ]
  },
  {
   "cell_type": "markdown",
   "id": "illegal-equity",
   "metadata": {},
   "source": [
    "- Classificar usando modelo SGD"
   ]
  },
  {
   "cell_type": "code",
   "execution_count": null,
   "id": "super-today",
   "metadata": {},
   "outputs": [],
   "source": [
    "classificar_noticia(sgd_model, noticia)"
   ]
  },
  {
   "cell_type": "markdown",
   "id": "capable-profile",
   "metadata": {},
   "source": [
    "- Resultados do modelo"
   ]
  },
  {
   "cell_type": "code",
   "execution_count": null,
   "id": "silver-equality",
   "metadata": {},
   "outputs": [],
   "source": [
    "sgd_model.score(x_test, y_test)"
   ]
  },
  {
   "cell_type": "markdown",
   "id": "valuable-command",
   "metadata": {},
   "source": [
    "## Confusion Matrix"
   ]
  },
  {
   "cell_type": "code",
   "execution_count": null,
   "id": "faced-wiring",
   "metadata": {},
   "outputs": [],
   "source": [
    "sgd_pred = sgd_model.predict(x_test)\n",
    "\n",
    "confusion_matrix(y_test, sgd_pred)"
   ]
  },
  {
   "cell_type": "markdown",
   "id": "helpful-publisher",
   "metadata": {},
   "source": [
    "## Accuracy Score"
   ]
  },
  {
   "cell_type": "code",
   "execution_count": null,
   "id": "adjacent-flashing",
   "metadata": {},
   "outputs": [],
   "source": [
    "set(sgd_pred)\n",
    "set(y_test)"
   ]
  },
  {
   "cell_type": "code",
   "execution_count": null,
   "id": "simple-translation",
   "metadata": {},
   "outputs": [],
   "source": [
    "accuracy_score(y_test, sgd_pred)"
   ]
  },
  {
   "cell_type": "code",
   "execution_count": null,
   "id": "recreational-mechanics",
   "metadata": {},
   "outputs": [],
   "source": [
    "from sklearn.metrics import precision_recall_fscore_support as score\n",
    "precision,recall,fscore,support=score(y_test,sgd_pred,average='macro')\n",
    "print('Precision : {}'.format(precision))\n",
    "print('Recall    : {}'.format(recall))\n",
    "print('F-score   : {}'.format(fscore))\n",
    "print('Support   : {}'.format(support))"
   ]
  },
  {
   "cell_type": "markdown",
   "id": "pending-anthony",
   "metadata": {},
   "source": [
    "## Classification Report"
   ]
  },
  {
   "cell_type": "code",
   "execution_count": null,
   "id": "finite-insured",
   "metadata": {},
   "outputs": [],
   "source": [
    "report = classification_report(y_test, sgd_pred, target_names=target_names,  output_dict=True)\n",
    "report"
   ]
  },
  {
   "cell_type": "code",
   "execution_count": null,
   "id": "automatic-drain",
   "metadata": {},
   "outputs": [],
   "source": [
    "sgd_stats = {'model': 'sgd_count', \n",
    "            'accuracy': report['accuracy'], \n",
    "            'recall': report['macro avg']['recall'], \n",
    "            'f1_score': report['macro avg']['f1-score'],\n",
    "            'support': report['macro avg']['support'],\n",
    "            'falso_precision': report['Falso']['precision'],\n",
    "            'falso_recall': report['Falso']['recall'],\n",
    "            'falso_f1_score': report['Falso']['f1-score'],\n",
    "            'verdadeiro_precision': report['Verdadeiro']['precision'],\n",
    "            'verdadeiro_recall': report['Verdadeiro']['recall'],\n",
    "            'verdadeiro_f1_score': report['Verdadeiro']['f1-score']}\n",
    "sgd_stats"
   ]
  },
  {
   "cell_type": "code",
   "execution_count": null,
   "id": "working-toddler",
   "metadata": {},
   "outputs": [],
   "source": [
    "stats.append(sgd_stats)"
   ]
  },
  {
   "cell_type": "markdown",
   "id": "hidden-break",
   "metadata": {},
   "source": [
    "## SGD Classifier em dados de sim ou não"
   ]
  },
  {
   "cell_type": "code",
   "execution_count": null,
   "id": "mineral-ordinary",
   "metadata": {},
   "outputs": [],
   "source": [
    "est_sn = SGDClassifier(loss='log', penalty='l2', tol=1e-3)\n",
    "\n",
    "## Treinando\n",
    "\n",
    "inicio_lote = 0\n",
    "fim_lote = tamanho_lote\n",
    "\n",
    "total_lotes = str(int(len(X_train)/tamanho_lote))\n",
    "ultimo_lote = False\n",
    "i = 1\n",
    "while True:\n",
    "    x_train = formatar_lote_de_noticias_sim_nao(X_train[inicio_lote:fim_lote])\n",
    "    est_sn.partial_fit(x_train, y_train[inicio_lote:fim_lote], classes=[0,1])\n",
    "    score = est_sn.score(formatar_lote_de_noticias(validacao_treino), validacao_classe)\n",
    "    \n",
    "    print(f'Lote {i} of {total_lotes} - score: {score}')\n",
    "    time.sleep(0.10)\n",
    "    \n",
    "    inicio_lote += tamanho_lote\n",
    "    \n",
    "    if fim_lote + tamanho_lote > len(X_train):\n",
    "        fim_lote = len(X_train)\n",
    "        ultimo_lote = True\n",
    "    else:\n",
    "        fim_lote += tamanho_lote\n",
    "    \n",
    "    i += 1\n",
    "    if ultimo_lote:\n",
    "        break"
   ]
  },
  {
   "cell_type": "markdown",
   "id": "whole-abortion",
   "metadata": {},
   "source": [
    "- Avaliando o modelo"
   ]
  },
  {
   "cell_type": "markdown",
   "id": "worst-piano",
   "metadata": {},
   "source": [
    "### Exportando o modelo SGD (contains)"
   ]
  },
  {
   "cell_type": "code",
   "execution_count": null,
   "id": "departmental-anime",
   "metadata": {},
   "outputs": [],
   "source": [
    "joblib.dump(est_sn, 'sgdsn.sav')"
   ]
  },
  {
   "cell_type": "markdown",
   "id": "integrated-theory",
   "metadata": {},
   "source": [
    "### Carregar modelo SGD (contains)"
   ]
  },
  {
   "cell_type": "code",
   "execution_count": null,
   "id": "industrial-church",
   "metadata": {},
   "outputs": [],
   "source": [
    "sgdsn_model_sn = joblib.load('sgdsn.sav')"
   ]
  },
  {
   "cell_type": "markdown",
   "id": "waiting-improvement",
   "metadata": {},
   "source": [
    "- Classificar usando modelo SGD (contains)"
   ]
  },
  {
   "cell_type": "code",
   "execution_count": null,
   "id": "egyptian-piece",
   "metadata": {},
   "outputs": [],
   "source": [
    "classificar_noticia(sgdsn_model_sn, noticia)"
   ]
  },
  {
   "cell_type": "markdown",
   "id": "powerful-glasgow",
   "metadata": {},
   "source": [
    "- Resultados do modelo\n",
    "\n",
    "\n",
    "\n"
   ]
  },
  {
   "cell_type": "code",
   "execution_count": null,
   "id": "occupational-earth",
   "metadata": {},
   "outputs": [],
   "source": [
    "sgdsn_model_sn.score(x_test_sn, y_test)"
   ]
  },
  {
   "cell_type": "markdown",
   "id": "optimum-coast",
   "metadata": {},
   "source": [
    "## Confusion Matrix"
   ]
  },
  {
   "cell_type": "code",
   "execution_count": null,
   "id": "upset-clearing",
   "metadata": {},
   "outputs": [],
   "source": [
    "sgdsn_pred = sgdsn_model_sn.predict(x_test_sn)\n",
    "\n",
    "confusion_matrix(y_test, sgdsn_pred)"
   ]
  },
  {
   "cell_type": "markdown",
   "id": "eastern-emphasis",
   "metadata": {},
   "source": [
    "## Accuracy Score"
   ]
  },
  {
   "cell_type": "code",
   "execution_count": null,
   "id": "purple-central",
   "metadata": {},
   "outputs": [],
   "source": [
    "accuracy_score(y_test, sgdsn_pred)"
   ]
  },
  {
   "cell_type": "markdown",
   "id": "indoor-garlic",
   "metadata": {},
   "source": [
    "## Classification Report"
   ]
  },
  {
   "cell_type": "code",
   "execution_count": null,
   "id": "clean-holmes",
   "metadata": {},
   "outputs": [],
   "source": [
    "report = classification_report(y_test, sgdsn_pred, target_names=target_names, output_dict=True)\n",
    "report"
   ]
  },
  {
   "cell_type": "code",
   "execution_count": null,
   "id": "forward-shore",
   "metadata": {},
   "outputs": [],
   "source": [
    "sgd_stats = {'model': 'sgd_contains', \n",
    "            'accuracy': report['accuracy'], \n",
    "            'recall': report['macro avg']['recall'], \n",
    "            'f1_score': report['macro avg']['f1-score'],\n",
    "            'support': report['macro avg']['support'],\n",
    "            'falso_precision': report['Falso']['precision'],\n",
    "            'falso_recall': report['Falso']['recall'],\n",
    "            'falso_f1_score': report['Falso']['f1-score'],\n",
    "            'verdadeiro_precision': report['Verdadeiro']['precision'],\n",
    "            'verdadeiro_recall': report['Verdadeiro']['recall'],\n",
    "            'verdadeiro_f1_score': report['Verdadeiro']['f1-score']}\n",
    "sgd_stats"
   ]
  },
  {
   "cell_type": "code",
   "execution_count": null,
   "id": "hidden-power",
   "metadata": {},
   "outputs": [],
   "source": [
    "stats.append(sgd_stats)"
   ]
  },
  {
   "cell_type": "code",
   "execution_count": null,
   "id": "terminal-hierarchy",
   "metadata": {},
   "outputs": [],
   "source": []
  },
  {
   "cell_type": "markdown",
   "id": "fourth-history",
   "metadata": {},
   "source": [
    "## MultinomialNB"
   ]
  },
  {
   "cell_type": "code",
   "execution_count": null,
   "id": "cleared-printer",
   "metadata": {},
   "outputs": [],
   "source": [
    "clf = MultinomialNB()\n",
    "## Treinando\n",
    "inicio_lote = 0\n",
    "fim_lote = tamanho_lote\n",
    "\n",
    "total_lotes = str(int(len(X_train)/tamanho_lote))\n",
    "ultimo_lote = False\n",
    "i = 1\n",
    "while True:\n",
    "    x_train = formatar_lote_de_noticias(X_train[inicio_lote:fim_lote])\n",
    "    clf.partial_fit(x_train, y_train[inicio_lote:fim_lote], classes=[0,1])\n",
    "    score = clf.score(formatar_lote_de_noticias(validacao_treino), validacao_classe)\n",
    "    \n",
    "    print(f'Lote {i} of {total_lotes} - score: {score}')\n",
    "    time.sleep(0.10)\n",
    "    \n",
    "    inicio_lote += tamanho_lote\n",
    "    \n",
    "    if fim_lote + tamanho_lote > len(X_train):\n",
    "        fim_lote = len(X_train)\n",
    "        ultimo_lote = True\n",
    "    else:\n",
    "        fim_lote += tamanho_lote\n",
    "    \n",
    "    i += 1\n",
    "    if ultimo_lote:\n",
    "        break"
   ]
  },
  {
   "cell_type": "markdown",
   "id": "modified-lobby",
   "metadata": {},
   "source": [
    "- Avaliando o modelo"
   ]
  },
  {
   "cell_type": "markdown",
   "id": "artistic-optimum",
   "metadata": {},
   "source": [
    "### Exportando o modelo MultinomialNB"
   ]
  },
  {
   "cell_type": "code",
   "execution_count": null,
   "id": "seven-university",
   "metadata": {},
   "outputs": [],
   "source": [
    "joblib.dump(est_sn, 'MultinomialNB.sav')"
   ]
  },
  {
   "cell_type": "markdown",
   "id": "demanding-duplicate",
   "metadata": {},
   "source": [
    "### Carregar modelo MultinomialNB"
   ]
  },
  {
   "cell_type": "code",
   "execution_count": null,
   "id": "cardiac-makeup",
   "metadata": {},
   "outputs": [],
   "source": [
    "multinb_model = joblib.load('MultinomialNB.sav')"
   ]
  },
  {
   "cell_type": "markdown",
   "id": "qualified-correlation",
   "metadata": {},
   "source": [
    "- Classificar usando modelo MultinomialNB"
   ]
  },
  {
   "cell_type": "code",
   "execution_count": null,
   "id": "fabulous-cinema",
   "metadata": {},
   "outputs": [],
   "source": [
    "classificar_noticia(multinb_model, noticia)"
   ]
  },
  {
   "cell_type": "markdown",
   "id": "variable-shower",
   "metadata": {},
   "source": [
    "- Resultados do modelo"
   ]
  },
  {
   "cell_type": "code",
   "execution_count": null,
   "id": "suspected-retreat",
   "metadata": {},
   "outputs": [],
   "source": [
    "multinb_model.score(x_test, y_test)"
   ]
  },
  {
   "cell_type": "markdown",
   "id": "integral-preservation",
   "metadata": {},
   "source": [
    "## Confusion Matrix"
   ]
  },
  {
   "cell_type": "code",
   "execution_count": null,
   "id": "seventh-moment",
   "metadata": {},
   "outputs": [],
   "source": [
    "multinb_model_pred = multinb_model.predict(x_test)\n",
    "\n",
    "confusion_matrix(y_test, multinb_model_pred)"
   ]
  },
  {
   "cell_type": "markdown",
   "id": "supposed-chrome",
   "metadata": {},
   "source": [
    "## Accuracy Score"
   ]
  },
  {
   "cell_type": "code",
   "execution_count": null,
   "id": "first-balance",
   "metadata": {},
   "outputs": [],
   "source": [
    "accuracy_score(y_test, multinb_model_pred)"
   ]
  },
  {
   "cell_type": "markdown",
   "id": "threatened-child",
   "metadata": {},
   "source": [
    "## Classification Report"
   ]
  },
  {
   "cell_type": "code",
   "execution_count": null,
   "id": "chubby-demand",
   "metadata": {},
   "outputs": [],
   "source": [
    "report = classification_report(y_test, multinb_model_pred, target_names=target_names, output_dict=True)\n",
    "report"
   ]
  },
  {
   "cell_type": "code",
   "execution_count": null,
   "id": "exotic-china",
   "metadata": {},
   "outputs": [],
   "source": [
    "sgd_stats = {'model': 'multinomial_count', \n",
    "            'accuracy': report['accuracy'], \n",
    "            'recall': report['macro avg']['recall'], \n",
    "            'f1_score': report['macro avg']['f1-score'],\n",
    "            'support': report['macro avg']['support'],\n",
    "            'falso_precision': report['Falso']['precision'],\n",
    "            'falso_recall': report['Falso']['recall'],\n",
    "            'falso_f1_score': report['Falso']['f1-score'],\n",
    "            'verdadeiro_precision': report['Verdadeiro']['precision'],\n",
    "            'verdadeiro_recall': report['Verdadeiro']['recall'],\n",
    "            'verdadeiro_f1_score': report['Verdadeiro']['f1-score']}\n",
    "sgd_stats"
   ]
  },
  {
   "cell_type": "code",
   "execution_count": null,
   "id": "tutorial-remains",
   "metadata": {},
   "outputs": [],
   "source": [
    "stats.append(sgd_stats)"
   ]
  },
  {
   "cell_type": "markdown",
   "id": "awful-attention",
   "metadata": {},
   "source": [
    "## MultiomailNB Classifier em dados de sim ou não"
   ]
  },
  {
   "cell_type": "code",
   "execution_count": null,
   "id": "least-jamaica",
   "metadata": {},
   "outputs": [],
   "source": [
    "clf_sn = MultinomialNB()\n",
    "\n",
    "inicio_lote = 0\n",
    "fim_lote = tamanho_lote\n",
    "\n",
    "total_lotes = str(int(len(X_train)/tamanho_lote))\n",
    "ultimo_lote = False\n",
    "i = 1\n",
    "while True:\n",
    "    x_train = formatar_lote_de_noticias_sim_nao(X_train[inicio_lote:fim_lote])\n",
    "    clf_sn.partial_fit(x_train, y_train[inicio_lote:fim_lote], classes=[0,1])\n",
    "    score = clf_sn.score(formatar_lote_de_noticias(validacao_treino), validacao_classe)\n",
    "    \n",
    "    print(f'Lote {i} of {total_lotes} - score: {score}')\n",
    "    time.sleep(0.10)\n",
    "    \n",
    "    inicio_lote += tamanho_lote\n",
    "    \n",
    "    if fim_lote + tamanho_lote > len(X_train):\n",
    "        fim_lote = len(X_train)\n",
    "        ultimo_lote = True\n",
    "    else:\n",
    "        fim_lote += tamanho_lote\n",
    "    \n",
    "    i += 1\n",
    "    if ultimo_lote:\n",
    "        break"
   ]
  },
  {
   "cell_type": "markdown",
   "id": "minor-airplane",
   "metadata": {},
   "source": [
    "- Avaliando o modelo"
   ]
  },
  {
   "cell_type": "markdown",
   "id": "measured-platform",
   "metadata": {},
   "source": [
    "### Exportando o modelo MultinomialNB"
   ]
  },
  {
   "cell_type": "code",
   "execution_count": null,
   "id": "technological-champion",
   "metadata": {},
   "outputs": [],
   "source": [
    "joblib.dump(est_sn, 'MultinomialNBSN.sav')"
   ]
  },
  {
   "cell_type": "markdown",
   "id": "controlled-picture",
   "metadata": {},
   "source": [
    "### Carregar modelo MultinomialNB"
   ]
  },
  {
   "cell_type": "code",
   "execution_count": null,
   "id": "current-raising",
   "metadata": {},
   "outputs": [],
   "source": [
    "multinb_model_sn = joblib.load('MultinomialNB.sav')"
   ]
  },
  {
   "cell_type": "markdown",
   "id": "indie-barcelona",
   "metadata": {},
   "source": [
    "- Classificar usando modelo MultinomialNB"
   ]
  },
  {
   "cell_type": "code",
   "execution_count": null,
   "id": "fluid-trace",
   "metadata": {},
   "outputs": [],
   "source": [
    "classificar_noticia(multinb_model_sn, noticia)"
   ]
  },
  {
   "cell_type": "markdown",
   "id": "funny-underground",
   "metadata": {},
   "source": [
    "- Resultados do modelo"
   ]
  },
  {
   "cell_type": "code",
   "execution_count": null,
   "id": "rapid-richards",
   "metadata": {},
   "outputs": [],
   "source": [
    "multinb_model_sn.score(x_test, y_test)"
   ]
  },
  {
   "cell_type": "markdown",
   "id": "smoking-physics",
   "metadata": {},
   "source": [
    "## Confusion Matrix"
   ]
  },
  {
   "cell_type": "code",
   "execution_count": null,
   "id": "grateful-circuit",
   "metadata": {},
   "outputs": [],
   "source": [
    "multinb_model_pred_sn = multinb_model_sn.predict(x_test_sn)\n",
    "confusion_matrix(y_test, multinb_model_pred_sn)"
   ]
  },
  {
   "cell_type": "markdown",
   "id": "hollow-faith",
   "metadata": {},
   "source": [
    "## Accuracy Score"
   ]
  },
  {
   "cell_type": "code",
   "execution_count": null,
   "id": "supposed-paper",
   "metadata": {},
   "outputs": [],
   "source": [
    "accuracy_score(y_test, multinb_model_pred_sn)"
   ]
  },
  {
   "cell_type": "markdown",
   "id": "corresponding-leonard",
   "metadata": {},
   "source": [
    "## Classification Report"
   ]
  },
  {
   "cell_type": "code",
   "execution_count": null,
   "id": "unknown-morning",
   "metadata": {
    "scrolled": true
   },
   "outputs": [],
   "source": [
    "report = classification_report(y_test, multinb_model_pred_sn, target_names=target_names, output_dict=True)\n",
    "report"
   ]
  },
  {
   "cell_type": "code",
   "execution_count": null,
   "id": "editorial-producer",
   "metadata": {},
   "outputs": [],
   "source": [
    "sgd_stats = {'model': 'multinomial_contains', \n",
    "            'accuracy': report['accuracy'], \n",
    "            'recall': report['macro avg']['recall'], \n",
    "            'f1_score': report['macro avg']['f1-score'],\n",
    "            'support': report['macro avg']['support'],\n",
    "            'falso_precision': report['Falso']['precision'],\n",
    "            'falso_recall': report['Falso']['recall'],\n",
    "            'falso_f1_score': report['Falso']['f1-score'],\n",
    "            'verdadeiro_precision': report['Verdadeiro']['precision'],\n",
    "            'verdadeiro_recall': report['Verdadeiro']['recall'],\n",
    "            'verdadeiro_f1_score': report['Verdadeiro']['f1-score']}\n",
    "sgd_stats"
   ]
  },
  {
   "cell_type": "code",
   "execution_count": null,
   "id": "imperial-thinking",
   "metadata": {},
   "outputs": [],
   "source": [
    "stats.append(sgd_stats)"
   ]
  },
  {
   "cell_type": "markdown",
   "id": "ordered-longitude",
   "metadata": {},
   "source": [
    "# Perceptron"
   ]
  },
  {
   "cell_type": "code",
   "execution_count": null,
   "id": "interracial-siemens",
   "metadata": {},
   "outputs": [],
   "source": [
    "percep = Perceptron()\n",
    "\n",
    "inicio_lote = 0\n",
    "fim_lote = tamanho_lote\n",
    "\n",
    "total_lotes = str(int(len(X_train)/tamanho_lote))\n",
    "ultimo_lote = False\n",
    "i = 1\n",
    "while True:\n",
    "    x_train = formatar_lote_de_noticias(X_train[inicio_lote:fim_lote])\n",
    "    percep.partial_fit(x_train, y_train[inicio_lote:fim_lote], classes=[0,1])\n",
    "    score = percep.score(formatar_lote_de_noticias(validacao_treino), validacao_classe)\n",
    "    \n",
    "    print(f'Lote {i} of {total_lotes} - score: {score}')\n",
    "    time.sleep(0.10)\n",
    "    \n",
    "    inicio_lote += tamanho_lote\n",
    "    \n",
    "    if fim_lote + tamanho_lote > len(X_train):\n",
    "        fim_lote = len(X_train)\n",
    "        ultimo_lote = True\n",
    "    else:\n",
    "        fim_lote += tamanho_lote\n",
    "    \n",
    "    i += 1\n",
    "    if ultimo_lote:\n",
    "        break"
   ]
  },
  {
   "cell_type": "markdown",
   "id": "supreme-limitation",
   "metadata": {},
   "source": [
    "- Avaliando o modelo\n",
    "\n",
    "### Exportando o modelo Perceptron"
   ]
  },
  {
   "cell_type": "code",
   "execution_count": null,
   "id": "explicit-interest",
   "metadata": {},
   "outputs": [],
   "source": [
    "joblib.dump(percep, 'Percep.sav')"
   ]
  },
  {
   "cell_type": "markdown",
   "id": "terminal-checklist",
   "metadata": {},
   "source": [
    "### Carregar modelo Perceptron\n"
   ]
  },
  {
   "cell_type": "code",
   "execution_count": null,
   "id": "protecting-sucking",
   "metadata": {},
   "outputs": [],
   "source": [
    "perceb_model = joblib.load('Percep.sav')"
   ]
  },
  {
   "cell_type": "markdown",
   "id": "bottom-place",
   "metadata": {},
   "source": [
    "- Classificar usando modelo Perceptron"
   ]
  },
  {
   "cell_type": "code",
   "execution_count": null,
   "id": "changing-substance",
   "metadata": {},
   "outputs": [],
   "source": [
    "classificar_noticia(perceb_model, noticia)"
   ]
  },
  {
   "cell_type": "markdown",
   "id": "religious-partition",
   "metadata": {},
   "source": [
    "- Resultados do modelo"
   ]
  },
  {
   "cell_type": "code",
   "execution_count": null,
   "id": "attended-diagnosis",
   "metadata": {},
   "outputs": [],
   "source": [
    "perceb_model.score(x_test, y_test)"
   ]
  },
  {
   "cell_type": "markdown",
   "id": "developed-consistency",
   "metadata": {},
   "source": [
    "\n",
    "## Confusion Matrix"
   ]
  },
  {
   "cell_type": "code",
   "execution_count": null,
   "id": "attached-bearing",
   "metadata": {},
   "outputs": [],
   "source": [
    "perceb_model_pred = perceb_model.predict(x_test)\n",
    "confusion_matrix(y_test, perceb_model_pred)"
   ]
  },
  {
   "cell_type": "markdown",
   "id": "developmental-leone",
   "metadata": {},
   "source": [
    "## Accuracy Score"
   ]
  },
  {
   "cell_type": "code",
   "execution_count": null,
   "id": "quantitative-procedure",
   "metadata": {},
   "outputs": [],
   "source": [
    "\n",
    "accuracy_score(y_test, perceb_model_pred)"
   ]
  },
  {
   "cell_type": "markdown",
   "id": "introductory-stylus",
   "metadata": {},
   "source": [
    "## Classification Report"
   ]
  },
  {
   "cell_type": "code",
   "execution_count": null,
   "id": "valuable-performer",
   "metadata": {
    "scrolled": true
   },
   "outputs": [],
   "source": [
    "report = classification_report(y_test, perceb_model_pred, target_names=target_names, output_dict=True)\n",
    "report"
   ]
  },
  {
   "cell_type": "code",
   "execution_count": null,
   "id": "silent-helping",
   "metadata": {},
   "outputs": [],
   "source": [
    "sgd_stats = {'model': 'percep_count', \n",
    "            'accuracy': report['accuracy'], \n",
    "            'recall': report['macro avg']['recall'], \n",
    "            'f1_score': report['macro avg']['f1-score'],\n",
    "            'support': report['macro avg']['support'],\n",
    "            'falso_precision': report['Falso']['precision'],\n",
    "            'falso_recall': report['Falso']['recall'],\n",
    "            'falso_f1_score': report['Falso']['f1-score'],\n",
    "            'verdadeiro_precision': report['Verdadeiro']['precision'],\n",
    "            'verdadeiro_recall': report['Verdadeiro']['recall'],\n",
    "            'verdadeiro_f1_score': report['Verdadeiro']['f1-score']}\n",
    "sgd_stats"
   ]
  },
  {
   "cell_type": "code",
   "execution_count": null,
   "id": "behavioral-antigua",
   "metadata": {},
   "outputs": [],
   "source": [
    "stats.append(sgd_stats)"
   ]
  },
  {
   "cell_type": "markdown",
   "id": "polish-angle",
   "metadata": {},
   "source": [
    "## Perceptron sim ou não"
   ]
  },
  {
   "cell_type": "code",
   "execution_count": null,
   "id": "removed-uzbekistan",
   "metadata": {},
   "outputs": [],
   "source": [
    "inicio_lote = 0\n",
    "fim_lote = tamanho_lote\n",
    "\n",
    "total_lotes = str(int(len(X_train)/tamanho_lote))\n",
    "ultimo_lote = False\n",
    "i = 1\n",
    "while True:\n",
    "    x_train = formatar_lote_de_noticias_sim_nao(X_train[inicio_lote:fim_lote])\n",
    "    percep_sn.partial_fit(x_train, y_train[inicio_lote:fim_lote], classes=[0,1])\n",
    "    score = percep_sn.score(formatar_lote_de_noticias(validacao_treino), validacao_classe)\n",
    "    \n",
    "    print(f'Lote {i} of {total_lotes} - score: {score}')\n",
    "    time.sleep(0.10)\n",
    "    \n",
    "    inicio_lote += tamanho_lote\n",
    "    \n",
    "    if fim_lote + tamanho_lote > len(X_train):\n",
    "        fim_lote = len(X_train)\n",
    "        ultimo_lote = True\n",
    "    else:\n",
    "        fim_lote += tamanho_lote\n",
    "    \n",
    "    i += 1\n",
    "    if ultimo_lote:\n",
    "        break"
   ]
  },
  {
   "cell_type": "markdown",
   "id": "answering-trade",
   "metadata": {},
   "source": [
    "- Avaliando o modelo"
   ]
  },
  {
   "cell_type": "markdown",
   "id": "seasonal-protocol",
   "metadata": {},
   "source": [
    "### Exportando o modelo Perceptron"
   ]
  },
  {
   "cell_type": "code",
   "execution_count": null,
   "id": "compatible-negotiation",
   "metadata": {},
   "outputs": [],
   "source": [
    "joblib.dump(percep_sn, 'percep_sn.sav')"
   ]
  },
  {
   "cell_type": "markdown",
   "id": "adjustable-reliance",
   "metadata": {},
   "source": [
    "### Carregar modelo Perceptron"
   ]
  },
  {
   "cell_type": "code",
   "execution_count": null,
   "id": "negative-senior",
   "metadata": {},
   "outputs": [],
   "source": [
    "perceb_model_sn = joblib.load('percep_sn.sav')"
   ]
  },
  {
   "cell_type": "markdown",
   "id": "electoral-gibraltar",
   "metadata": {},
   "source": [
    "- Classificar usando modelo Perceptron"
   ]
  },
  {
   "cell_type": "code",
   "execution_count": null,
   "id": "eligible-georgia",
   "metadata": {},
   "outputs": [],
   "source": [
    "classificar_noticia(perceb_model_sn, noticia)"
   ]
  },
  {
   "cell_type": "markdown",
   "id": "fitted-vampire",
   "metadata": {},
   "source": [
    "- Resultados do modelo"
   ]
  },
  {
   "cell_type": "code",
   "execution_count": null,
   "id": "strong-drawing",
   "metadata": {},
   "outputs": [],
   "source": [
    "perceb_model_sn.score(x_test_sn, y_test)"
   ]
  },
  {
   "cell_type": "markdown",
   "id": "fewer-medicine",
   "metadata": {},
   "source": [
    "## Confusion Matrix"
   ]
  },
  {
   "cell_type": "code",
   "execution_count": null,
   "id": "motivated-innocent",
   "metadata": {},
   "outputs": [],
   "source": [
    "perceb_model_pred_sn = perceb_model_sn.predict(x_test_sn)\n",
    "confusion_matrix(y_test, perceb_model_pred_sn)"
   ]
  },
  {
   "cell_type": "markdown",
   "id": "dedicated-state",
   "metadata": {},
   "source": [
    "## Accuracy Score\n"
   ]
  },
  {
   "cell_type": "code",
   "execution_count": null,
   "id": "surrounded-mississippi",
   "metadata": {},
   "outputs": [],
   "source": [
    "accuracy_score(y_test, perceb_model_pred_sn)"
   ]
  },
  {
   "cell_type": "markdown",
   "id": "union-plastic",
   "metadata": {},
   "source": [
    "## Classification Report"
   ]
  },
  {
   "cell_type": "code",
   "execution_count": null,
   "id": "abandoned-screening",
   "metadata": {
    "scrolled": false
   },
   "outputs": [],
   "source": [
    "report = classification_report(y_test, perceb_model_pred_sn, target_names=target_names, output_dict=True)\n",
    "report"
   ]
  },
  {
   "cell_type": "code",
   "execution_count": null,
   "id": "limited-leave",
   "metadata": {},
   "outputs": [],
   "source": [
    "sgd_stats = {'model': 'percep_contains', \n",
    "            'accuracy': report['accuracy'], \n",
    "            'recall': report['macro avg']['recall'], \n",
    "            'f1_score': report['macro avg']['f1-score'],\n",
    "            'support': report['macro avg']['support'],\n",
    "            'falso_precision': report['Falso']['precision'],\n",
    "            'falso_recall': report['Falso']['recall'],\n",
    "            'falso_f1_score': report['Falso']['f1-score'],\n",
    "            'verdadeiro_precision': report['Verdadeiro']['precision'],\n",
    "            'verdadeiro_recall': report['Verdadeiro']['recall'],\n",
    "            'verdadeiro_f1_score': report['Verdadeiro']['f1-score']}\n",
    "sgd_stats"
   ]
  },
  {
   "cell_type": "code",
   "execution_count": null,
   "id": "systematic-screening",
   "metadata": {},
   "outputs": [],
   "source": [
    "stats.append(sgd_stats)"
   ]
  },
  {
   "cell_type": "markdown",
   "id": "welcome-update",
   "metadata": {},
   "source": [
    "## Bernouli"
   ]
  },
  {
   "cell_type": "code",
   "execution_count": null,
   "id": "german-irish",
   "metadata": {},
   "outputs": [],
   "source": [
    "bern_count = BernoulliNB()\n",
    "inicio_lote = 0\n",
    "fim_lote = tamanho_lote\n",
    "\n",
    "total_lotes = str(int(len(X_train)/tamanho_lote))\n",
    "ultimo_lote = False\n",
    "i = 1\n",
    "while True:\n",
    "    x_train = formatar_lote_de_noticias(X_train[inicio_lote:fim_lote])\n",
    "    bern_count.partial_fit(x_train, y_train[inicio_lote:fim_lote], classes=[0,1])\n",
    "    score = bern_count.score(formatar_lote_de_noticias(validacao_treino), validacao_classe)\n",
    "    \n",
    "    print(f'Lote {i} of {total_lotes} - score: {score}')\n",
    "    time.sleep(0.10)\n",
    "    \n",
    "    inicio_lote += tamanho_lote\n",
    "    \n",
    "    if fim_lote + tamanho_lote > len(X_train):\n",
    "        fim_lote = len(X_train)\n",
    "        ultimo_lote = True\n",
    "    else:\n",
    "        fim_lote += tamanho_lote\n",
    "    \n",
    "    i += 1\n",
    "    if ultimo_lote:\n",
    "        break"
   ]
  },
  {
   "cell_type": "markdown",
   "id": "macro-combination",
   "metadata": {},
   "source": [
    "- Avaliando o modelo"
   ]
  },
  {
   "cell_type": "markdown",
   "id": "sunset-burton",
   "metadata": {},
   "source": [
    "### Exportando o modelo Perceptron"
   ]
  },
  {
   "cell_type": "code",
   "execution_count": null,
   "id": "obvious-negotiation",
   "metadata": {},
   "outputs": [],
   "source": [
    "joblib.dump(percep_sn, 'bernouli.sav')"
   ]
  },
  {
   "cell_type": "markdown",
   "id": "noted-magic",
   "metadata": {},
   "source": [
    "### Carregar modelo Perceptron"
   ]
  },
  {
   "cell_type": "code",
   "execution_count": null,
   "id": "suspected-antigua",
   "metadata": {},
   "outputs": [],
   "source": [
    "bern_model = joblib.load('bernouli.sav')"
   ]
  },
  {
   "cell_type": "markdown",
   "id": "retired-realtor",
   "metadata": {},
   "source": [
    "- Classificar usando modelo Perceptron"
   ]
  },
  {
   "cell_type": "code",
   "execution_count": null,
   "id": "quiet-darkness",
   "metadata": {},
   "outputs": [],
   "source": [
    "classificar_noticia(bern_model, noticia)"
   ]
  },
  {
   "cell_type": "markdown",
   "id": "olympic-product",
   "metadata": {},
   "source": [
    "- Resultados do modelo"
   ]
  },
  {
   "cell_type": "code",
   "execution_count": null,
   "id": "representative-private",
   "metadata": {},
   "outputs": [],
   "source": [
    "bern_model.score(x_test, y_test)"
   ]
  },
  {
   "cell_type": "markdown",
   "id": "single-washer",
   "metadata": {},
   "source": [
    "## Confusion Matrix"
   ]
  },
  {
   "cell_type": "code",
   "execution_count": null,
   "id": "narrative-pressing",
   "metadata": {},
   "outputs": [],
   "source": [
    "bern_model_pred = bern_model.predict(x_test)\n",
    "confusion_matrix(y_test, bern_model_pred)"
   ]
  },
  {
   "cell_type": "markdown",
   "id": "optical-pharmaceutical",
   "metadata": {},
   "source": [
    "## Accuracy Score"
   ]
  },
  {
   "cell_type": "code",
   "execution_count": null,
   "id": "reduced-confirmation",
   "metadata": {},
   "outputs": [],
   "source": [
    "accuracy_score(y_test, bern_model_pred)"
   ]
  },
  {
   "cell_type": "markdown",
   "id": "tutorial-headline",
   "metadata": {},
   "source": [
    "## Classification Report"
   ]
  },
  {
   "cell_type": "code",
   "execution_count": null,
   "id": "alleged-midwest",
   "metadata": {},
   "outputs": [],
   "source": [
    "report = classification_report(y_test, bern_model_pred, target_names=target_names, output_dict=True)\n",
    "report"
   ]
  },
  {
   "cell_type": "code",
   "execution_count": null,
   "id": "destroyed-opinion",
   "metadata": {},
   "outputs": [],
   "source": [
    "sgd_stats = {'model': 'bernouli_count', \n",
    "            'accuracy': report['accuracy'], \n",
    "            'recall': report['macro avg']['recall'], \n",
    "            'f1_score': report['macro avg']['f1-score'],\n",
    "            'support': report['macro avg']['support'],\n",
    "            'falso_precision': report['Falso']['precision'],\n",
    "            'falso_recall': report['Falso']['recall'],\n",
    "            'falso_f1_score': report['Falso']['f1-score'],\n",
    "            'verdadeiro_precision': report['Verdadeiro']['precision'],\n",
    "            'verdadeiro_recall': report['Verdadeiro']['recall'],\n",
    "            'verdadeiro_f1_score': report['Verdadeiro']['f1-score']}\n",
    "sgd_stats"
   ]
  },
  {
   "cell_type": "code",
   "execution_count": null,
   "id": "radio-canberra",
   "metadata": {},
   "outputs": [],
   "source": [
    "stats.append(sgd_stats)"
   ]
  },
  {
   "cell_type": "code",
   "execution_count": null,
   "id": "russian-netscape",
   "metadata": {},
   "outputs": [],
   "source": [
    "stats"
   ]
  },
  {
   "cell_type": "markdown",
   "id": "greek-supplier",
   "metadata": {},
   "source": [
    "## Bernouli Sim ou Não"
   ]
  },
  {
   "cell_type": "code",
   "execution_count": null,
   "id": "filled-aruba",
   "metadata": {},
   "outputs": [],
   "source": [
    "inicio_lote = 0\n",
    "fim_lote = tamanho_lote\n",
    "\n",
    "total_lotes = str(int(len(X_train)/tamanho_lote))\n",
    "ultimo_lote = False\n",
    "i = 1\n",
    "while True:\n",
    "    x_train = formatar_lote_de_noticias_sim_nao(X_train[inicio_lote:fim_lote])\n",
    "    bern.partial_fit(x_train, y_train[inicio_lote:fim_lote], classes=[0,1])\n",
    "    score = bern.score(formatar_lote_de_noticias(validacao_treino), validacao_classe)\n",
    "    \n",
    "    print(f'Lote {i} of {total_lotes} - score: {score}')\n",
    "    time.sleep(0.10)\n",
    "    \n",
    "    inicio_lote += tamanho_lote\n",
    "    \n",
    "    if fim_lote + tamanho_lote > len(X_train):\n",
    "        fim_lote = len(X_train)\n",
    "        ultimo_lote = True\n",
    "    else:\n",
    "        fim_lote += tamanho_lote\n",
    "    \n",
    "    i += 1\n",
    "    if ultimo_lote:\n",
    "        break"
   ]
  },
  {
   "cell_type": "markdown",
   "id": "welsh-reach",
   "metadata": {},
   "source": [
    "- Avaliando o modelo"
   ]
  },
  {
   "cell_type": "markdown",
   "id": "local-annotation",
   "metadata": {},
   "source": [
    "### Exportando o modelo Bernouli"
   ]
  },
  {
   "cell_type": "code",
   "execution_count": null,
   "id": "threaded-definition",
   "metadata": {},
   "outputs": [],
   "source": [
    "joblib.dump(bern, 'bernoulisn.sav')"
   ]
  },
  {
   "cell_type": "markdown",
   "id": "ahead-cycle",
   "metadata": {},
   "source": [
    "### Carregar modelo Perceptron"
   ]
  },
  {
   "cell_type": "code",
   "execution_count": null,
   "id": "fabulous-passion",
   "metadata": {},
   "outputs": [],
   "source": [
    "bern_model_sn = joblib.load('bernoulisn.sav')"
   ]
  },
  {
   "cell_type": "markdown",
   "id": "modular-interest",
   "metadata": {},
   "source": [
    "- Classificar usando modelo Perceptron"
   ]
  },
  {
   "cell_type": "code",
   "execution_count": null,
   "id": "plastic-village",
   "metadata": {},
   "outputs": [],
   "source": [
    "classificar_noticia(bern_model_sn, noticia)"
   ]
  },
  {
   "cell_type": "markdown",
   "id": "average-surprise",
   "metadata": {},
   "source": [
    "- Resultados do modelo"
   ]
  },
  {
   "cell_type": "code",
   "execution_count": null,
   "id": "rubber-scholarship",
   "metadata": {},
   "outputs": [],
   "source": [
    "bern_model_sn.score(x_test_sn, y_test)"
   ]
  },
  {
   "cell_type": "markdown",
   "id": "acquired-employment",
   "metadata": {},
   "source": [
    "## Confusion Matrix"
   ]
  },
  {
   "cell_type": "code",
   "execution_count": null,
   "id": "representative-collector",
   "metadata": {},
   "outputs": [],
   "source": [
    "bern_model_sn_pred = bern_model_sn.predict(x_test_sn)\n",
    "confusion_matrix(y_test, bern_model_sn_pred)"
   ]
  },
  {
   "cell_type": "markdown",
   "id": "sustained-dublin",
   "metadata": {},
   "source": [
    "## Accuracy Score"
   ]
  },
  {
   "cell_type": "code",
   "execution_count": null,
   "id": "loved-collar",
   "metadata": {},
   "outputs": [],
   "source": [
    "accuracy_score(y_test, bern_model_sn_pred)"
   ]
  },
  {
   "cell_type": "markdown",
   "id": "suited-border",
   "metadata": {},
   "source": [
    "## Classification Report"
   ]
  },
  {
   "cell_type": "code",
   "execution_count": null,
   "id": "written-female",
   "metadata": {
    "scrolled": true
   },
   "outputs": [],
   "source": [
    "report = classification_report(y_test, bern_model_sn_pred, target_names=target_names, output_dict=True)\n",
    "report"
   ]
  },
  {
   "cell_type": "code",
   "execution_count": null,
   "id": "suburban-isolation",
   "metadata": {},
   "outputs": [],
   "source": [
    "sgd_stats = {'model': 'benouli_contains', \n",
    "            'accuracy': report['accuracy'], \n",
    "            'recall': report['macro avg']['recall'], \n",
    "            'f1_score': report['macro avg']['f1-score'],\n",
    "            'support': report['macro avg']['support'],\n",
    "            'falso_precision': report['Falso']['precision'],\n",
    "            'falso_recall': report['Falso']['recall'],\n",
    "            'falso_f1_score': report['Falso']['f1-score'],\n",
    "            'verdadeiro_precision': report['Verdadeiro']['precision'],\n",
    "            'verdadeiro_recall': report['Verdadeiro']['recall'],\n",
    "            'verdadeiro_f1_score': report['Verdadeiro']['f1-score']}\n",
    "sgd_stats"
   ]
  },
  {
   "cell_type": "code",
   "execution_count": null,
   "id": "respective-square",
   "metadata": {},
   "outputs": [],
   "source": [
    "stats.append(sgd_stats)"
   ]
  },
  {
   "cell_type": "markdown",
   "id": "conscious-insider",
   "metadata": {},
   "source": [
    "## Passive agressive classifier"
   ]
  },
  {
   "cell_type": "code",
   "execution_count": null,
   "id": "offshore-evans",
   "metadata": {},
   "outputs": [],
   "source": [
    "passive = PassiveAggressiveClassifier()\n",
    "\n",
    "inicio_lote = 0\n",
    "fim_lote = tamanho_lote\n",
    "\n",
    "total_lotes = str(int(len(X_train)/tamanho_lote))\n",
    "ultimo_lote = False\n",
    "i = 1\n",
    "while True:\n",
    "    x_train = formatar_lote_de_noticias(X_train[inicio_lote:fim_lote])\n",
    "    passive.partial_fit(x_train, y_train[inicio_lote:fim_lote], classes=[0,1])\n",
    "    score = passive.score(formatar_lote_de_noticias(validacao_treino), validacao_classe)\n",
    "    \n",
    "    print(f'Lote {i} of {total_lotes} - score: {score}')\n",
    "    time.sleep(0.10)\n",
    "    \n",
    "    inicio_lote += tamanho_lote\n",
    "    \n",
    "    if fim_lote + tamanho_lote > len(X_train):\n",
    "        fim_lote = len(X_train)\n",
    "        ultimo_lote = True\n",
    "    else:\n",
    "        fim_lote += tamanho_lote\n",
    "    \n",
    "    i += 1\n",
    "    if ultimo_lote:\n",
    "        break"
   ]
  },
  {
   "cell_type": "markdown",
   "id": "quantitative-diabetes",
   "metadata": {},
   "source": [
    "- Avaliando o modelo"
   ]
  },
  {
   "cell_type": "markdown",
   "id": "august-therapist",
   "metadata": {},
   "source": [
    "### Exportando o modelo Passive Agressive"
   ]
  },
  {
   "cell_type": "code",
   "execution_count": null,
   "id": "genuine-board",
   "metadata": {},
   "outputs": [],
   "source": [
    "joblib.dump(passive, 'passive.sav')"
   ]
  },
  {
   "cell_type": "markdown",
   "id": "optical-undergraduate",
   "metadata": {},
   "source": [
    "### Carregar modelo Passive Agressive"
   ]
  },
  {
   "cell_type": "code",
   "execution_count": null,
   "id": "genuine-perspective",
   "metadata": {},
   "outputs": [],
   "source": [
    "passive_model = joblib.load('passive.sav')"
   ]
  },
  {
   "cell_type": "markdown",
   "id": "unique-hospital",
   "metadata": {},
   "source": [
    "- Classificar usando modelo Passive Agressive"
   ]
  },
  {
   "cell_type": "code",
   "execution_count": null,
   "id": "intelligent-contrary",
   "metadata": {},
   "outputs": [],
   "source": [
    "classificar_noticia(passive_model, noticia)"
   ]
  },
  {
   "cell_type": "markdown",
   "id": "recreational-diamond",
   "metadata": {},
   "source": [
    "- Resultados do modelo"
   ]
  },
  {
   "cell_type": "code",
   "execution_count": null,
   "id": "assisted-chess",
   "metadata": {},
   "outputs": [],
   "source": [
    "passive_model.score(x_test, y_test)"
   ]
  },
  {
   "cell_type": "markdown",
   "id": "disabled-andrews",
   "metadata": {},
   "source": [
    "## Confusion Matrix"
   ]
  },
  {
   "cell_type": "code",
   "execution_count": null,
   "id": "basic-selling",
   "metadata": {},
   "outputs": [],
   "source": [
    "passive_model_pred = passive_model.predict(x_test)\n",
    "confusion_matrix(y_test, passive_model_pred)"
   ]
  },
  {
   "cell_type": "markdown",
   "id": "deluxe-zambia",
   "metadata": {},
   "source": [
    "## Accuracy Score"
   ]
  },
  {
   "cell_type": "code",
   "execution_count": null,
   "id": "married-daniel",
   "metadata": {},
   "outputs": [],
   "source": [
    "accuracy_score(y_test, passive_model_pred)"
   ]
  },
  {
   "cell_type": "markdown",
   "id": "viral-number",
   "metadata": {},
   "source": [
    "## Classification Report"
   ]
  },
  {
   "cell_type": "code",
   "execution_count": null,
   "id": "dedicated-alloy",
   "metadata": {},
   "outputs": [],
   "source": [
    "report = classification_report(y_test, passive_model_pred, target_names=target_names, output_dict=True)\n",
    "report"
   ]
  },
  {
   "cell_type": "code",
   "execution_count": null,
   "id": "geological-purchase",
   "metadata": {},
   "outputs": [],
   "source": [
    "sgd_stats = {'model': 'passive_count', \n",
    "            'accuracy': report['accuracy'], \n",
    "            'recall': report['macro avg']['recall'], \n",
    "            'f1_score': report['macro avg']['f1-score'],\n",
    "            'support': report['macro avg']['support'],\n",
    "            'falso_precision': report['Falso']['precision'],\n",
    "            'falso_recall': report['Falso']['recall'],\n",
    "            'falso_f1_score': report['Falso']['f1-score'],\n",
    "            'verdadeiro_precision': report['Verdadeiro']['precision'],\n",
    "            'verdadeiro_recall': report['Verdadeiro']['recall'],\n",
    "            'verdadeiro_f1_score': report['Verdadeiro']['f1-score']}\n",
    "sgd_stats"
   ]
  },
  {
   "cell_type": "code",
   "execution_count": null,
   "id": "partial-calcium",
   "metadata": {},
   "outputs": [],
   "source": [
    "stats.append(sgd_stats)\n"
   ]
  },
  {
   "cell_type": "markdown",
   "id": "obvious-wyoming",
   "metadata": {},
   "source": [
    "## Passive agressive classifier Sim Não"
   ]
  },
  {
   "cell_type": "code",
   "execution_count": null,
   "id": "scientific-notion",
   "metadata": {},
   "outputs": [],
   "source": [
    "passive_sn = PassiveAggressiveClassifier()\n",
    "\n",
    "inicio_lote = 0\n",
    "fim_lote = tamanho_lote\n",
    "\n",
    "total_lotes = str(int(len(X_train)/tamanho_lote))\n",
    "ultimo_lote = False\n",
    "i = 1\n",
    "while True:\n",
    "    x_train = formatar_lote_de_noticias(X_train[inicio_lote:fim_lote])\n",
    "    passive_sn.partial_fit(x_train, y_train[inicio_lote:fim_lote], classes=[0,1])\n",
    "    score = passive_sn.score(formatar_lote_de_noticias(validacao_treino), validacao_classe)\n",
    "    \n",
    "    print(f'Lote {i} of {total_lotes} - score: {score}')\n",
    "    time.sleep(0.10)\n",
    "    \n",
    "    inicio_lote += tamanho_lote\n",
    "    \n",
    "    if fim_lote + tamanho_lote > len(X_train):\n",
    "        fim_lote = len(X_train)\n",
    "        ultimo_lote = True\n",
    "    else:\n",
    "        fim_lote += tamanho_lote\n",
    "    \n",
    "    i += 1\n",
    "    if ultimo_lote:\n",
    "        break"
   ]
  },
  {
   "cell_type": "markdown",
   "id": "laden-bundle",
   "metadata": {},
   "source": [
    "- Avaliando o modelo"
   ]
  },
  {
   "cell_type": "markdown",
   "id": "foster-reality",
   "metadata": {},
   "source": [
    "### Exportando o modelo Passive Agressive"
   ]
  },
  {
   "cell_type": "code",
   "execution_count": null,
   "id": "dutch-desperate",
   "metadata": {},
   "outputs": [],
   "source": [
    "joblib.dump(passive_sn, 'passivesn.sav')"
   ]
  },
  {
   "cell_type": "markdown",
   "id": "reflected-eligibility",
   "metadata": {},
   "source": [
    "### Carregar modelo Perceptron"
   ]
  },
  {
   "cell_type": "code",
   "execution_count": null,
   "id": "imposed-supervisor",
   "metadata": {},
   "outputs": [],
   "source": [
    "passive_model_sn = joblib.load('passivesn.sav')"
   ]
  },
  {
   "cell_type": "markdown",
   "id": "geological-rapid",
   "metadata": {},
   "source": [
    "- Classificar usando modelo Perceptron"
   ]
  },
  {
   "cell_type": "code",
   "execution_count": null,
   "id": "informed-intake",
   "metadata": {
    "scrolled": true
   },
   "outputs": [],
   "source": [
    "classificar_noticia(passive_model_sn, noticia)"
   ]
  },
  {
   "cell_type": "markdown",
   "id": "determined-writing",
   "metadata": {},
   "source": [
    "- Resultados do modelo"
   ]
  },
  {
   "cell_type": "code",
   "execution_count": null,
   "id": "freelance-spanking",
   "metadata": {},
   "outputs": [],
   "source": [
    "passive_model_sn.score(x_test_sn, y_test)"
   ]
  },
  {
   "cell_type": "markdown",
   "id": "restricted-julian",
   "metadata": {},
   "source": [
    "## Confusion Matrix"
   ]
  },
  {
   "cell_type": "code",
   "execution_count": null,
   "id": "regular-duration",
   "metadata": {
    "scrolled": true
   },
   "outputs": [],
   "source": [
    "passive_model_sn_pred = passive_model_sn.predict(x_test_sn)\n",
    "confusion_matrix(y_test, passive_model_sn_pred)"
   ]
  },
  {
   "cell_type": "markdown",
   "id": "hidden-criticism",
   "metadata": {},
   "source": [
    "## Accuracy Score"
   ]
  },
  {
   "cell_type": "code",
   "execution_count": null,
   "id": "armed-selection",
   "metadata": {},
   "outputs": [],
   "source": [
    "accuracy_score(y_test, passive_model_sn_pred)"
   ]
  },
  {
   "cell_type": "markdown",
   "id": "neural-amount",
   "metadata": {},
   "source": [
    "## Classification Report"
   ]
  },
  {
   "cell_type": "code",
   "execution_count": null,
   "id": "amino-popularity",
   "metadata": {
    "scrolled": true
   },
   "outputs": [],
   "source": [
    "report = classification_report(y_test, passive_model_sn_pred, target_names=target_names, output_dict=True)\n",
    "report"
   ]
  },
  {
   "cell_type": "code",
   "execution_count": null,
   "id": "hollow-feeling",
   "metadata": {},
   "outputs": [],
   "source": [
    "sgd_stats = {'model': 'passive_contains', \n",
    "            'accuracy': report['accuracy'], \n",
    "            'recall': report['macro avg']['recall'], \n",
    "            'f1_score': report['macro avg']['f1-score'],\n",
    "            'support': report['macro avg']['support'],\n",
    "            'falso_precision': report['Falso']['precision'],\n",
    "            'falso_recall': report['Falso']['recall'],\n",
    "            'falso_f1_score': report['Falso']['f1-score'],\n",
    "            'verdadeiro_precision': report['Verdadeiro']['precision'],\n",
    "            'verdadeiro_recall': report['Verdadeiro']['recall'],\n",
    "            'verdadeiro_f1_score': report['Verdadeiro']['f1-score']}\n",
    "sgd_stats"
   ]
  },
  {
   "cell_type": "code",
   "execution_count": null,
   "id": "emerging-volume",
   "metadata": {},
   "outputs": [],
   "source": [
    "stats.append(sgd_stats)"
   ]
  },
  {
   "cell_type": "markdown",
   "id": "outdoor-limit",
   "metadata": {},
   "source": [
    "## Redes Neurais"
   ]
  },
  {
   "cell_type": "code",
   "execution_count": null,
   "id": "noticed-serial",
   "metadata": {},
   "outputs": [],
   "source": [
    "model = tf.keras.models.Sequential([\n",
    "  tf.keras.layers.Dense(12, input_dim=82080),\n",
    "  tf.keras.layers.Dense(32, activation='relu'),\n",
    "  tf.keras.layers.Dense(2, activation='softmax')\n",
    "])\n",
    "\n",
    "lossss = tf.keras.losses.BinaryCrossentropy(\n",
    "    from_logits=False, label_smoothing=0, reduction=\"auto\", name=\"binary_crossentropy\"\n",
    ")\n",
    "\n",
    "model.compile(optimizer='adam',\n",
    "              loss=lossss,\n",
    "              metrics=['accuracy'])"
   ]
  },
  {
   "cell_type": "code",
   "execution_count": null,
   "id": "incoming-technical",
   "metadata": {},
   "outputs": [],
   "source": [
    "\n",
    "\n",
    "inicio_lote = 0\n",
    "fim_lote = tamanho_lote\n",
    "\n",
    "total_lotes = str(int(len(X_train)/tamanho_lote))\n",
    "ultimo_lote = False\n",
    "i = 1\n",
    "\n",
    "# model.save('keras_count.h5')\n",
    "while True:\n",
    "#     /model = load_model('keras_count.h5')\n",
    "    x_train = formatar_lote_de_noticias(X_train[inicio_lote:fim_lote])\n",
    "    y_tr = np.asanyarray(format_labels(y_train[inicio_lote:fim_lote].to_numpy()))\n",
    "    model.fit(x_train.to_numpy(), y_tr, epochs=10)\n",
    "#     model.save('keras_count.h5')\n",
    "    inicio_lote += tamanho_lote\n",
    "    \n",
    "    if fim_lote + tamanho_lote > len(X_train):\n",
    "        fim_lote = len(X_train)\n",
    "        ultimo_lote = True\n",
    "    else:\n",
    "        fim_lote += tamanho_lote\n",
    "    \n",
    "    i += 1\n",
    "    if ultimo_lote:\n",
    "        break"
   ]
  },
  {
   "cell_type": "markdown",
   "id": "filled-fellow",
   "metadata": {},
   "source": [
    "- Avaliando o modelo"
   ]
  },
  {
   "cell_type": "markdown",
   "id": "advanced-remark",
   "metadata": {},
   "source": [
    "### Exportando o modelo Rede Neural"
   ]
  },
  {
   "cell_type": "code",
   "execution_count": null,
   "id": "formal-contrast",
   "metadata": {},
   "outputs": [],
   "source": [
    "model.save('keras_finished_count_2.h5')"
   ]
  },
  {
   "cell_type": "markdown",
   "id": "mighty-heading",
   "metadata": {},
   "source": [
    "### Carregar modelo Rede Neural"
   ]
  },
  {
   "cell_type": "code",
   "execution_count": null,
   "id": "lesser-allergy",
   "metadata": {},
   "outputs": [],
   "source": [
    "keras_model = load_model('keras_finished_count_2.h5')"
   ]
  },
  {
   "cell_type": "markdown",
   "id": "current-dryer",
   "metadata": {},
   "source": [
    "- Resultados do modelo\n"
   ]
  },
  {
   "cell_type": "code",
   "execution_count": null,
   "id": "pleasant-consistency",
   "metadata": {},
   "outputs": [],
   "source": [
    "score, acc = keras_model.evaluate(x_test_batch, y_test_batch)\n",
    "print(f\"Score: {score}\")\n",
    "print(f\"Accuracy: {acc}\")"
   ]
  },
  {
   "cell_type": "markdown",
   "id": "meaningful-transcript",
   "metadata": {},
   "source": [
    "## Confusion Matrix"
   ]
  },
  {
   "cell_type": "code",
   "execution_count": null,
   "id": "successful-mattress",
   "metadata": {},
   "outputs": [],
   "source": [
    "y_pred_keras = keras_model.predict(x_test.to_numpy()).round()\n",
    "y_pred_keras = [classify(result) for result in y_pred_keras]\n",
    "confusion_matrix(y_test, y_pred_keras)"
   ]
  },
  {
   "cell_type": "markdown",
   "id": "professional-michigan",
   "metadata": {},
   "source": [
    "## Accuracy Score"
   ]
  },
  {
   "cell_type": "code",
   "execution_count": null,
   "id": "cosmetic-jersey",
   "metadata": {},
   "outputs": [],
   "source": [
    "accuracy_score(y_test, y_pred_keras)"
   ]
  },
  {
   "cell_type": "markdown",
   "id": "sized-flexibility",
   "metadata": {},
   "source": [
    "## Classification Report"
   ]
  },
  {
   "cell_type": "code",
   "execution_count": null,
   "id": "canadian-transition",
   "metadata": {},
   "outputs": [],
   "source": [
    "report = classification_report(y_test, y_pred_keras, target_names=target_names, output_dict=True)\n",
    "report"
   ]
  },
  {
   "cell_type": "code",
   "execution_count": null,
   "id": "extra-montgomery",
   "metadata": {},
   "outputs": [],
   "source": [
    "sgd_stats = {'model': 'keras_count', \n",
    "            'accuracy': report['accuracy'], \n",
    "            'recall': report['macro avg']['recall'], \n",
    "            'f1_score': report['macro avg']['f1-score'],\n",
    "            'support': report['macro avg']['support'],\n",
    "            'falso_precision': report['Falso']['precision'],\n",
    "            'falso_recall': report['Falso']['recall'],\n",
    "            'falso_f1_score': report['Falso']['f1-score'],\n",
    "            'verdadeiro_precision': report['Verdadeiro']['precision'],\n",
    "            'verdadeiro_recall': report['Verdadeiro']['recall'],\n",
    "            'verdadeiro_f1_score': report['Verdadeiro']['f1-score']}\n",
    "sgd_stats"
   ]
  },
  {
   "cell_type": "code",
   "execution_count": null,
   "id": "superb-python",
   "metadata": {},
   "outputs": [],
   "source": [
    "stats.append(sgd_stats)"
   ]
  },
  {
   "cell_type": "markdown",
   "id": "ordinary-finance",
   "metadata": {},
   "source": [
    "## Keras Contains"
   ]
  },
  {
   "cell_type": "code",
   "execution_count": null,
   "id": "japanese-pledge",
   "metadata": {},
   "outputs": [],
   "source": [
    "model_contains = tf.keras.models.Sequential([\n",
    "  tf.keras.layers.Dense(12, input_dim=82080),\n",
    "  tf.keras.layers.Dense(32, activation='relu'),\n",
    "  tf.keras.layers.Dense(2, activation='softmax')\n",
    "])\n",
    "\n",
    "lossss = tf.keras.losses.BinaryCrossentropy(\n",
    "    from_logits=False, label_smoothing=0, reduction=\"auto\", name=\"binary_crossentropy\"\n",
    ")\n",
    "\n",
    "model_contains.compile(optimizer='adam',\n",
    "              loss=lossss,\n",
    "              metrics=['accuracy'])"
   ]
  },
  {
   "cell_type": "code",
   "execution_count": null,
   "id": "pleased-reliance",
   "metadata": {
    "scrolled": true
   },
   "outputs": [],
   "source": [
    "inicio_lote = 0\n",
    "fim_lote = tamanho_lote\n",
    "\n",
    "total_lotes = str(int(len(X_train)/tamanho_lote))\n",
    "ultimo_lote = False\n",
    "i = 1\n",
    "\n",
    "# model.save('keras_count.h5')\n",
    "while True:\n",
    "#     /model = load_model('keras_count.h5')\n",
    "    x_train = formatar_lote_de_noticias_sim_nao(X_train[inicio_lote:fim_lote])\n",
    "    y_tr = np.asanyarray(format_labels(y_train[inicio_lote:fim_lote].to_numpy()))\n",
    "    model_contains.fit(x_train.to_numpy(), y_tr, epochs=10)\n",
    "#     model.save('keras_count.h5')\n",
    "    inicio_lote += tamanho_lote\n",
    "    \n",
    "    if fim_lote + tamanho_lote > len(X_train):\n",
    "        fim_lote = len(X_train)\n",
    "        ultimo_lote = True\n",
    "    else:\n",
    "        fim_lote += tamanho_lote\n",
    "    \n",
    "    i += 1\n",
    "    if ultimo_lote:\n",
    "        break"
   ]
  },
  {
   "cell_type": "markdown",
   "id": "fuzzy-divorce",
   "metadata": {},
   "source": [
    "### Exportando o modelo Rede Neural"
   ]
  },
  {
   "cell_type": "code",
   "execution_count": null,
   "id": "controversial-creativity",
   "metadata": {},
   "outputs": [],
   "source": [
    "model_contains.save('keras_finished_contains_2.h5')"
   ]
  },
  {
   "cell_type": "markdown",
   "id": "embedded-tomorrow",
   "metadata": {},
   "source": [
    "### Carregar modelo Rede Neural"
   ]
  },
  {
   "cell_type": "code",
   "execution_count": null,
   "id": "sweet-beaver",
   "metadata": {},
   "outputs": [],
   "source": [
    "keras_model_sn = load_model('keras_finished_contains_2.h5')"
   ]
  },
  {
   "cell_type": "markdown",
   "id": "adverse-manchester",
   "metadata": {},
   "source": [
    "- Resultados do modelo"
   ]
  },
  {
   "cell_type": "code",
   "execution_count": null,
   "id": "french-carroll",
   "metadata": {},
   "outputs": [],
   "source": [
    "score, acc = keras_model_sn.evaluate(x_test_batch, y_test_batch)\n",
    "print(f\"loss: {score}\")\n",
    "print(f\"Accuracy: {acc}\")"
   ]
  },
  {
   "cell_type": "markdown",
   "id": "fitted-ideal",
   "metadata": {},
   "source": [
    "## Confusion Matrix"
   ]
  },
  {
   "cell_type": "code",
   "execution_count": null,
   "id": "characteristic-poverty",
   "metadata": {},
   "outputs": [],
   "source": [
    "y_pred_keras_sn = keras_model_sn.predict(x_test_sn.to_numpy()).round()\n",
    "y_pred_keras_sn = [classify(result) for result in y_pred_keras_sn]\n",
    "confusion_matrix(y_test, y_pred_keras_sn)"
   ]
  },
  {
   "cell_type": "markdown",
   "id": "hired-blend",
   "metadata": {},
   "source": [
    "## Accuracy Score"
   ]
  },
  {
   "cell_type": "code",
   "execution_count": null,
   "id": "prime-motion",
   "metadata": {},
   "outputs": [],
   "source": [
    "accuracy_score(y_test, y_pred_keras_sn)"
   ]
  },
  {
   "cell_type": "markdown",
   "id": "mysterious-cisco",
   "metadata": {},
   "source": [
    "## Classification Report"
   ]
  },
  {
   "cell_type": "code",
   "execution_count": null,
   "id": "daily-phenomenon",
   "metadata": {
    "scrolled": true
   },
   "outputs": [],
   "source": [
    "report = classification_report(y_test, y_pred_keras_sn, target_names=target_names, output_dict=True)\n",
    "report"
   ]
  },
  {
   "cell_type": "code",
   "execution_count": null,
   "id": "hawaiian-direction",
   "metadata": {},
   "outputs": [],
   "source": [
    "sgd_stats = {'model': 'keras_contains', \n",
    "            'accuracy': report['accuracy'], \n",
    "            'recall': report['macro avg']['recall'], \n",
    "            'f1_score': report['macro avg']['f1-score'],\n",
    "            'support': report['macro avg']['support'],\n",
    "            'falso_precision': report['Falso']['precision'],\n",
    "            'falso_recall': report['Falso']['recall'],\n",
    "            'falso_f1_score': report['Falso']['f1-score'],\n",
    "            'verdadeiro_precision': report['Verdadeiro']['precision'],\n",
    "            'verdadeiro_recall': report['Verdadeiro']['recall'],\n",
    "            'verdadeiro_f1_score': report['Verdadeiro']['f1-score']}\n",
    "sgd_stats"
   ]
  },
  {
   "cell_type": "code",
   "execution_count": null,
   "id": "corporate-separate",
   "metadata": {},
   "outputs": [],
   "source": [
    "stats.append(sgd_stats)"
   ]
  },
  {
   "cell_type": "markdown",
   "id": "indirect-bicycle",
   "metadata": {},
   "source": [
    "## Keras Contains Validation"
   ]
  },
  {
   "cell_type": "code",
   "execution_count": null,
   "id": "postal-diagnosis",
   "metadata": {},
   "outputs": [],
   "source": [
    "model_ = tf.keras.models.Sequential([\n",
    "  tf.keras.layers.Dense(12, input_dim=82080),\n",
    "  tf.keras.layers.Dense(32, activation='relu'),\n",
    "  tf.keras.layers.Dense(2, activation='softmax')\n",
    "])\n",
    "\n",
    "lossss = tf.keras.losses.BinaryCrossentropy(\n",
    "    from_logits=False, label_smoothing=0, reduction=\"auto\", name=\"binary_crossentropy\"\n",
    ")\n",
    "\n",
    "model_.compile(optimizer='adam',\n",
    "              loss=lossss,\n",
    "              metrics=['accuracy'])"
   ]
  },
  {
   "cell_type": "code",
   "execution_count": null,
   "id": "published-louis",
   "metadata": {},
   "outputs": [],
   "source": [
    "inicio_lote = 0\n",
    "fim_lote = tamanho_lote\n",
    "\n",
    "total_lotes = str(int(len(X_train)/tamanho_lote))\n",
    "ultimo_lote = False\n",
    "i = 1\n",
    "\n",
    "# model.save('keras_count.h5')\n",
    "while True:\n",
    "#     /model = load_model('keras_count.h5')\n",
    "    x_train = formatar_lote_de_noticias(X_train[inicio_lote:fim_lote])\n",
    "    y_tr = np.asanyarray(format_labels(y_train[inicio_lote:fim_lote].to_numpy()))\n",
    "    model_.fit(x=x_train.to_numpy(), y=y_tr, validation_data=(val_formated, val_formated_class), epochs=10)\n",
    "#     model.save('keras_count.h5')\n",
    "    inicio_lote += tamanho_lote\n",
    "    \n",
    "    if fim_lote + tamanho_lote > len(X_train):\n",
    "        fim_lote = len(X_train)\n",
    "        ultimo_lote = True\n",
    "    else:\n",
    "        fim_lote += tamanho_lote\n",
    "    \n",
    "    i += 1\n",
    "    if ultimo_lote:\n",
    "        break"
   ]
  },
  {
   "cell_type": "markdown",
   "id": "studied-pioneer",
   "metadata": {},
   "source": [
    "### Exportando o modelo Rede Neural"
   ]
  },
  {
   "cell_type": "code",
   "execution_count": null,
   "id": "brutal-nitrogen",
   "metadata": {},
   "outputs": [],
   "source": [
    "model_.save('keras_finished_count_val_2.h5')"
   ]
  },
  {
   "cell_type": "markdown",
   "id": "chinese-yemen",
   "metadata": {},
   "source": [
    "### Carregar modelo Rede Neural"
   ]
  },
  {
   "cell_type": "code",
   "execution_count": null,
   "id": "desperate-barcelona",
   "metadata": {},
   "outputs": [],
   "source": [
    "keras_model_val = load_model('keras_finished_count_val_2.h5')"
   ]
  },
  {
   "cell_type": "markdown",
   "id": "seven-brief",
   "metadata": {},
   "source": [
    "- Resultados do modelo"
   ]
  },
  {
   "cell_type": "code",
   "execution_count": null,
   "id": "technical-patch",
   "metadata": {},
   "outputs": [],
   "source": [
    "score, acc = keras_model_val.evaluate(x_test_batch, y_test_batch)\n",
    "print(f\"Score: {score}\")\n",
    "print(f\"Accuracy: {acc}\")"
   ]
  },
  {
   "cell_type": "markdown",
   "id": "objective-extraction",
   "metadata": {},
   "source": [
    "## Confusion Matrix"
   ]
  },
  {
   "cell_type": "code",
   "execution_count": null,
   "id": "veterinary-studio",
   "metadata": {},
   "outputs": [],
   "source": [
    "y_pred_keras_val = keras_model_val.predict(x_test.to_numpy()).round()\n",
    "y_pred_keras_val = [classify(result) for result in y_pred_keras_val]\n",
    "confusion_matrix(y_test, y_pred_keras_val)"
   ]
  },
  {
   "cell_type": "markdown",
   "id": "increasing-april",
   "metadata": {},
   "source": [
    "## Accuracy Score"
   ]
  },
  {
   "cell_type": "code",
   "execution_count": null,
   "id": "coral-investigation",
   "metadata": {},
   "outputs": [],
   "source": [
    "accuracy_score(y_test, y_pred_keras_val)"
   ]
  },
  {
   "cell_type": "markdown",
   "id": "successful-spencer",
   "metadata": {},
   "source": [
    "## Classification Report"
   ]
  },
  {
   "cell_type": "code",
   "execution_count": null,
   "id": "collective-conditioning",
   "metadata": {},
   "outputs": [],
   "source": [
    "report = classification_report(y_test, y_pred_keras_val, target_names=target_names, output_dict=True)\n",
    "report"
   ]
  },
  {
   "cell_type": "code",
   "execution_count": null,
   "id": "occupied-rugby",
   "metadata": {},
   "outputs": [],
   "source": [
    "sgd_stats = {'model': 'keras_count_val', \n",
    "            'accuracy': report['accuracy'], \n",
    "            'recall': report['macro avg']['recall'], \n",
    "            'f1_score': report['macro avg']['f1-score'],\n",
    "            'support': report['macro avg']['support'],\n",
    "            'falso_precision': report['Falso']['precision'],\n",
    "            'falso_recall': report['Falso']['recall'],\n",
    "            'falso_f1_score': report['Falso']['f1-score'],\n",
    "            'verdadeiro_precision': report['Verdadeiro']['precision'],\n",
    "            'verdadeiro_recall': report['Verdadeiro']['recall'],\n",
    "            'verdadeiro_f1_score': report['Verdadeiro']['f1-score']}\n",
    "sgd_stats"
   ]
  },
  {
   "cell_type": "code",
   "execution_count": null,
   "id": "rolled-royal",
   "metadata": {},
   "outputs": [],
   "source": [
    "stats.append(sgd_stats)"
   ]
  },
  {
   "cell_type": "markdown",
   "id": "cheap-dallas",
   "metadata": {},
   "source": [
    "## Keras Contains Validation Sim/Não"
   ]
  },
  {
   "cell_type": "code",
   "execution_count": null,
   "id": "integrated-sapphire",
   "metadata": {},
   "outputs": [],
   "source": [
    "model_sn = tf.keras.models.Sequential([\n",
    "  tf.keras.layers.Dense(12, input_dim=82080),\n",
    "  tf.keras.layers.Dense(32, activation='relu'),\n",
    "  tf.keras.layers.Dense(2, activation='softmax')\n",
    "])\n",
    "\n",
    "lossss = tf.keras.losses.BinaryCrossentropy(\n",
    "    from_logits=False, label_smoothing=0, reduction=\"auto\", name=\"binary_crossentropy\"\n",
    ")\n",
    "\n",
    "model_sn.compile(optimizer='adam',\n",
    "              loss=lossss,\n",
    "              metrics=['accuracy'])"
   ]
  },
  {
   "cell_type": "code",
   "execution_count": null,
   "id": "heard-brave",
   "metadata": {},
   "outputs": [],
   "source": [
    "inicio_lote = 0\n",
    "fim_lote = tamanho_lote\n",
    "\n",
    "total_lotes = str(int(len(X_train)/tamanho_lote))\n",
    "ultimo_lote = False\n",
    "i = 1\n",
    "\n",
    "# model.save('keras_count.h5')\n",
    "while True:\n",
    "#     /model = load_model('keras_count.h5')\n",
    "    x_train = formatar_lote_de_noticias_sim_nao(X_train[inicio_lote:fim_lote])\n",
    "    y_tr = np.asanyarray(format_labels(y_train[inicio_lote:fim_lote].to_numpy()))\n",
    "    model_sn.fit(x=x_train.to_numpy(), y=y_tr, validation_data=(val_formated_sn, val_formated_class_sn), epochs=10)\n",
    "#     model.save('keras_count.h5')\n",
    "    inicio_lote += tamanho_lote\n",
    "    \n",
    "    if fim_lote + tamanho_lote > len(X_train):\n",
    "        fim_lote = len(X_train)\n",
    "        ultimo_lote = True\n",
    "    else:\n",
    "        fim_lote += tamanho_lote\n",
    "    \n",
    "    i += 1\n",
    "    if ultimo_lote:\n",
    "        break"
   ]
  },
  {
   "cell_type": "markdown",
   "id": "accepted-modem",
   "metadata": {},
   "source": [
    "### Exportando o modelo Rede Neural"
   ]
  },
  {
   "cell_type": "code",
   "execution_count": null,
   "id": "radical-collective",
   "metadata": {},
   "outputs": [],
   "source": [
    "model_sn.save('keras_model_sn_val_2.h5')"
   ]
  },
  {
   "cell_type": "markdown",
   "id": "lovely-percentage",
   "metadata": {},
   "source": [
    "### Carregar modelo Rede Neural"
   ]
  },
  {
   "cell_type": "code",
   "execution_count": null,
   "id": "enhanced-pulse",
   "metadata": {},
   "outputs": [],
   "source": [
    "keras_model_val_sn = load_model('keras_model_sn_val.h5')"
   ]
  },
  {
   "cell_type": "markdown",
   "id": "devoted-terminology",
   "metadata": {},
   "source": [
    "- Resultados do modelo"
   ]
  },
  {
   "cell_type": "code",
   "execution_count": null,
   "id": "capital-bulgaria",
   "metadata": {},
   "outputs": [],
   "source": [
    "score, acc = keras_model_val_sn.evaluate(x_test_batch, y_test_batch)\n",
    "print(f\"loss: {score}\")\n",
    "print(f\"Accuracy: {acc}\")"
   ]
  },
  {
   "cell_type": "markdown",
   "id": "catholic-message",
   "metadata": {},
   "source": [
    "## Confusion Matrix"
   ]
  },
  {
   "cell_type": "code",
   "execution_count": null,
   "id": "swedish-hotel",
   "metadata": {},
   "outputs": [],
   "source": [
    "y_pred_keras_sn_val = model_sn.predict(x_test_sn.to_numpy()).round()\n",
    "y_pred_keras_sn_val = [classify(result) for result in y_pred_keras_sn_val]\n",
    "confusion_matrix(y_test, y_pred_keras_sn_val)"
   ]
  },
  {
   "cell_type": "markdown",
   "id": "complex-popularity",
   "metadata": {},
   "source": [
    "## Accuracy Score"
   ]
  },
  {
   "cell_type": "code",
   "execution_count": null,
   "id": "religious-bargain",
   "metadata": {},
   "outputs": [],
   "source": [
    "accuracy_score(y_test, y_pred_keras_sn_val)"
   ]
  },
  {
   "cell_type": "markdown",
   "id": "convenient-stand",
   "metadata": {},
   "source": [
    "## Classification Report"
   ]
  },
  {
   "cell_type": "code",
   "execution_count": null,
   "id": "chemical-lebanon",
   "metadata": {},
   "outputs": [],
   "source": [
    "report = classification_report(y_test, y_pred_keras_sn_val, target_names=target_names, output_dict=True)\n",
    "report"
   ]
  },
  {
   "cell_type": "code",
   "execution_count": null,
   "id": "contained-straight",
   "metadata": {},
   "outputs": [],
   "source": [
    "sgd_stats = {'model': 'keras_contains_val', \n",
    "            'accuracy': report['accuracy'], \n",
    "            'recall': report['macro avg']['recall'], \n",
    "            'f1_score': report['macro avg']['f1-score'],\n",
    "            'support': report['macro avg']['support'],\n",
    "            'falso_precision': report['Falso']['precision'],\n",
    "            'falso_recall': report['Falso']['recall'],\n",
    "            'falso_f1_score': report['Falso']['f1-score'],\n",
    "            'verdadeiro_precision': report['Verdadeiro']['precision'],\n",
    "            'verdadeiro_recall': report['Verdadeiro']['recall'],\n",
    "            'verdadeiro_f1_score': report['Verdadeiro']['f1-score']}\n",
    "sgd_stats"
   ]
  },
  {
   "cell_type": "code",
   "execution_count": null,
   "id": "banner-spray",
   "metadata": {},
   "outputs": [],
   "source": [
    "stats.append(sgd_stats)"
   ]
  },
  {
   "cell_type": "code",
   "execution_count": null,
   "id": "twelve-toilet",
   "metadata": {},
   "outputs": [],
   "source": [
    "stats_df = pd.DataFrame(stats)"
   ]
  },
  {
   "cell_type": "code",
   "execution_count": null,
   "id": "dental-willow",
   "metadata": {},
   "outputs": [],
   "source": [
    "stats_df"
   ]
  },
  {
   "cell_type": "code",
   "execution_count": null,
   "id": "sitting-break",
   "metadata": {},
   "outputs": [],
   "source": [
    "stats_df.to_csv('model_stats.csv')"
   ]
  },
  {
   "cell_type": "code",
   "execution_count": null,
   "id": "flush-surface",
   "metadata": {},
   "outputs": [],
   "source": []
  },
  {
   "cell_type": "code",
   "execution_count": null,
   "id": "genetic-hostel",
   "metadata": {},
   "outputs": [],
   "source": [
    "stats_df.accuracy = stats_df.accuracy.map(lambda i:i*100)"
   ]
  },
  {
   "cell_type": "code",
   "execution_count": null,
   "id": "threatened-valuable",
   "metadata": {},
   "outputs": [],
   "source": [
    "stats_df.recall = stats_df.recall.map(lambda i:i*100)\n",
    "stats_df.f1_score = stats_df.f1_score.map(lambda i:i*100)\n",
    "stats_df.support = stats_df.support.map(lambda i:i*100)\n",
    "stats_df.falso_precision = stats_df.falso_precision.map(lambda i:i*100)\n",
    "stats_df.falso_recall = stats_df.falso_recall.map(lambda i:i*100)\n",
    "stats_df.falso_f1_score = stats_df.falso_f1_score.map(lambda i:i*100)\n",
    "stats_df.verdadeiro_precision = stats_df.verdadeiro_precision.map(lambda i:i*100)\n",
    "stats_df.verdadeiro_recall = stats_df.verdadeiro_recall.map(lambda i:i*100)\n",
    "stats_df.verdadeiro_f1_score = stats_df.verdadeiro_f1_score.map(lambda i:i*100)"
   ]
  },
  {
   "cell_type": "code",
   "execution_count": null,
   "id": "satisfactory-design",
   "metadata": {},
   "outputs": [],
   "source": [
    "stats_df.to_csv('model_stats_formatted.csv')"
   ]
  },
  {
   "cell_type": "code",
   "execution_count": null,
   "id": "bridal-projector",
   "metadata": {},
   "outputs": [],
   "source": [
    "stats_df = pd.read_csv('model_stats_formatted.csv')"
   ]
  },
  {
   "cell_type": "code",
   "execution_count": null,
   "id": "broad-impression",
   "metadata": {},
   "outputs": [],
   "source": [
    "stats_df.head()"
   ]
  },
  {
   "cell_type": "code",
   "execution_count": null,
   "id": "under-franchise",
   "metadata": {},
   "outputs": [],
   "source": [
    "plt.xticks(rotation=75)\n",
    "g = sns.barplot(x='model', y = 'accuracy', data=stats_df.sort_values(['accuracy'], ascending=False))\n",
    "for p in g.patches:\n",
    "    g.annotate(str(format(p.get_height(), '.1f')) + '%', \n",
    "                   (p.get_x() + p.get_width() / 2., p.get_height()), \n",
    "                   ha = 'center', va = 'center', \n",
    "                   xytext = (0, 9), \n",
    "                   textcoords = 'offset points')\n",
    "plt.xlabel(\"Modelos\", size=14)\n",
    "plt.ylabel(\"Acurácia\", size=14)\n",
    "plt.savefig(\"acurácia modelos.png\")\n",
    "plt.gcf().set_size_inches(11.7, 8.27)\n",
    "plt.ylim(1,100)\n",
    "plt.show()"
   ]
  },
  {
   "cell_type": "code",
   "execution_count": null,
   "id": "overall-creature",
   "metadata": {},
   "outputs": [],
   "source": [
    "plt.xticks(rotation=75)\n",
    "g = sns.barplot(x='model', y = 'recall', data=stats_df.sort_values(['recall'], ascending=False))\n",
    "for p in g.patches:\n",
    "    g.annotate(str(format(p.get_height(), '.1f')) + '%', \n",
    "                   (p.get_x() + p.get_width() / 2., p.get_height()), \n",
    "                   ha = 'center', va = 'center', \n",
    "                   xytext = (0, 9), \n",
    "                   textcoords = 'offset points')\n",
    "plt.xlabel(\"Modelos\", size=14)\n",
    "plt.ylabel(\"Recall\", size=14)\n",
    "plt.savefig(\"acurácia modelos.png\")\n",
    "plt.gcf().set_size_inches(11.7, 8.27)\n",
    "plt.ylim(1,100)\n",
    "plt.show()"
   ]
  },
  {
   "cell_type": "code",
   "execution_count": null,
   "id": "jewish-desert",
   "metadata": {},
   "outputs": [],
   "source": [
    "plt.xticks(rotation=75)\n",
    "g = sns.barplot(x='model', y = 'f1_score', data=stats_df.sort_values(['f1_score'], ascending=False))\n",
    "for p in g.patches:\n",
    "    g.annotate(str(format(p.get_height(), '.1f')) + '%', \n",
    "                   (p.get_x() + p.get_width() / 2., p.get_height()), \n",
    "                   ha = 'center', va = 'center', \n",
    "                   xytext = (0, 9), \n",
    "                   textcoords = 'offset points')\n",
    "plt.xlabel(\"Modelos\", size=14)\n",
    "plt.ylabel(\"F1 Score\", size=14)\n",
    "plt.savefig(\"acurácia modelos.png\")\n",
    "plt.gcf().set_size_inches(11.7, 8.27)\n",
    "plt.ylim(1,100)\n",
    "plt.show()"
   ]
  },
  {
   "cell_type": "code",
   "execution_count": null,
   "id": "premium-submission",
   "metadata": {},
   "outputs": [],
   "source": [
    "plt.xticks(rotation=75)\n",
    "g = sns.barplot(x='model', y = 'verdadeiro_precision', data=stats_df.sort_values(['verdadeiro_precision'], ascending=False))\n",
    "for p in g.patches:\n",
    "    g.annotate(str(format(p.get_height(), '.1f')) + '%', \n",
    "                   (p.get_x() + p.get_width() / 2., p.get_height()), \n",
    "                   ha = 'center', va = 'center', \n",
    "                   xytext = (0, 9), \n",
    "                   textcoords = 'offset points')\n",
    "plt.xlabel(\"Modelos\", size=14)\n",
    "plt.ylabel(\"Precisão Verdadeiro\", size=14)\n",
    "plt.savefig(\"acurácia modelos.png\")\n",
    "plt.gcf().set_size_inches(11.7, 8.27)\n",
    "plt.ylim(1,110)\n",
    "plt.show()"
   ]
  },
  {
   "cell_type": "code",
   "execution_count": null,
   "id": "incorrect-witch",
   "metadata": {},
   "outputs": [],
   "source": [
    "plt.xticks(rotation=75)\n",
    "g = sns.barplot(x='model', y = 'falso_precision', data=stats_df.sort_values(['falso_precision'], ascending=False))\n",
    "for p in g.patches:\n",
    "    g.annotate(str(format(p.get_height(), '.1f')) + '%', \n",
    "                   (p.get_x() + p.get_width() / 2., p.get_height()), \n",
    "                   ha = 'center', va = 'center', \n",
    "                   xytext = (0, 9), \n",
    "                   textcoords = 'offset points')\n",
    "plt.xlabel(\"Modelos\", size=14)\n",
    "plt.ylabel(\"Precisão Falso\", size=14)\n",
    "plt.savefig(\"Precisão Falso.png\")\n",
    "plt.gcf().set_size_inches(11.7, 8.27)\n",
    "plt.ylim(1,110)\n",
    "plt.show()"
   ]
  },
  {
   "cell_type": "code",
   "execution_count": null,
   "id": "frozen-lesson",
   "metadata": {},
   "outputs": [],
   "source": [
    "\t\tverdadeiro_recall\t"
   ]
  },
  {
   "cell_type": "code",
   "execution_count": null,
   "id": "competitive-flooring",
   "metadata": {},
   "outputs": [],
   "source": [
    "plt.xticks(rotation=75)\n",
    "g = sns.barplot(x='model', y = 'falso_f1_score', data=stats_df.sort_values(['falso_f1_score'], ascending=False))\n",
    "for p in g.patches:\n",
    "    g.annotate(str(format(p.get_height(), '.1f')) + '%', \n",
    "                   (p.get_x() + p.get_width() / 2., p.get_height()), \n",
    "                   ha = 'center', va = 'center', \n",
    "                   xytext = (0, 9), \n",
    "                   textcoords = 'offset points')\n",
    "plt.xlabel(\"Modelos\", size=14)\n",
    "plt.ylabel(\"Falso F1 Score\", size=14)\n",
    "plt.savefig(\"Precisão Falso.png\")\n",
    "plt.gcf().set_size_inches(11.7, 8.27)\n",
    "plt.ylim(1,110)\n",
    "plt.show()"
   ]
  },
  {
   "cell_type": "code",
   "execution_count": null,
   "id": "collaborative-portland",
   "metadata": {},
   "outputs": [],
   "source": [
    "plt.xticks(rotation=75)\n",
    "g = sns.barplot(x='model', y = 'verdadeiro_precision', data=stats_df.sort_values(['verdadeiro_precision'], ascending=False))\n",
    "for p in g.patches:\n",
    "    g.annotate(str(format(p.get_height(), '.1f')) + '%', \n",
    "                   (p.get_x() + p.get_width() / 2., p.get_height()), \n",
    "                   ha = 'center', va = 'center', \n",
    "                   xytext = (0, 9), \n",
    "                   textcoords = 'offset points')\n",
    "plt.xlabel(\"Modelos\", size=14)\n",
    "plt.ylabel(\"Verdadeiro F1 Score\", size=14)\n",
    "plt.savefig(\"Precisão Falso.png\")\n",
    "plt.gcf().set_size_inches(11.7, 8.27)\n",
    "plt.ylim(1,110)\n",
    "plt.show()"
   ]
  },
  {
   "cell_type": "code",
   "execution_count": null,
   "id": "quiet-better",
   "metadata": {},
   "outputs": [],
   "source": [
    "plt.xticks(rotation=75)\n",
    "g = sns.barplot(x='model', y = 'verdadeiro_recall', data=stats_df.sort_values(['verdadeiro_recall'], ascending=False))\n",
    "for p in g.patches:\n",
    "    g.annotate(str(format(p.get_height(), '.1f')) + '%', \n",
    "                   (p.get_x() + p.get_width() / 2., p.get_height()), \n",
    "                   ha = 'center', va = 'center', \n",
    "                   xytext = (0, 9), \n",
    "                   textcoords = 'offset points')\n",
    "plt.xlabel(\"Modelos\", size=14)\n",
    "plt.ylabel(\"Verdadeiro Recall\", size=14)\n",
    "plt.savefig(\"Verdadeiro Recall.png\")\n",
    "plt.gcf().set_size_inches(11.7, 8.27)\n",
    "plt.ylim(1,110)\n",
    "plt.show()"
   ]
  },
  {
   "cell_type": "code",
   "execution_count": null,
   "id": "federal-alpha",
   "metadata": {},
   "outputs": [],
   "source": [
    "plt.xticks(rotation=75)\n",
    "g = sns.barplot(x='model', y = 'falso_recall', data=stats_df.sort_values(['falso_recall'], ascending=False))\n",
    "for p in g.patches:\n",
    "    g.annotate(str(format(p.get_height(), '.1f')) + '%', \n",
    "                   (p.get_x() + p.get_width() / 2., p.get_height()), \n",
    "                   ha = 'center', va = 'center', \n",
    "                   xytext = (0, 9), \n",
    "                   textcoords = 'offset points')\n",
    "plt.xlabel(\"Modelos\", size=14)\n",
    "plt.ylabel(\"Falso Recall\", size=14)\n",
    "plt.savefig(\"Falso Recall.png\")\n",
    "plt.gcf().set_size_inches(11.7, 8.27)\n",
    "plt.ylim(1,110)\n",
    "plt.show()"
   ]
  },
  {
   "cell_type": "code",
   "execution_count": null,
   "id": "representative-superior",
   "metadata": {},
   "outputs": [],
   "source": []
  }
 ],
 "metadata": {
  "kernelspec": {
   "display_name": "Python 3",
   "language": "python",
   "name": "python3"
  },
  "language_info": {
   "codemirror_mode": {
    "name": "ipython",
    "version": 3
   },
   "file_extension": ".py",
   "mimetype": "text/x-python",
   "name": "python",
   "nbconvert_exporter": "python",
   "pygments_lexer": "ipython3",
   "version": "3.9.1"
  }
 },
 "nbformat": 4,
 "nbformat_minor": 5
}
